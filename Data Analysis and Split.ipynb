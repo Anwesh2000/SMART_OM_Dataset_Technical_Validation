{
 "cells": [
  {
   "cell_type": "code",
   "execution_count": 1,
   "metadata": {
    "colab": {
     "base_uri": "https://localhost:8080/"
    },
    "executionInfo": {
     "elapsed": 198,
     "status": "ok",
     "timestamp": 1753166171704,
     "user": {
      "displayName": "Anwesh Nayak",
      "userId": "10812060260948452341"
     },
     "user_tz": -330
    },
    "id": "zW7Yu_N27D4V",
    "outputId": "e2c9cc26-dae3-4b1f-d3dc-0a78f1dac33e"
   },
   "outputs": [
    {
     "name": "stdout",
     "output_type": "stream",
     "text": [
      "env: CUBLAS_WORKSPACE_CONFIG=:4096:8\n"
     ]
    }
   ],
   "source": [
    "%env CUBLAS_WORKSPACE_CONFIG=:4096:8"
   ]
  },
  {
   "cell_type": "code",
   "execution_count": 2,
   "metadata": {
    "id": "5InbErDf38LF"
   },
   "outputs": [],
   "source": [
    "import torch\n",
    "import torch.nn as nn\n",
    "import torch.optim as optim\n",
    "from torch.utils.data import Dataset, random_split, DataLoader\n",
    "from torchvision import models, transforms\n",
    "from PIL import Image\n",
    "import numpy as np\n",
    "from tqdm import tqdm\n",
    "import pandas as pd\n",
    "import os\n",
    "from sklearn.model_selection import train_test_split\n",
    "from torch.optim.lr_scheduler import ReduceLROnPlateau\n",
    "from torchinfo import summary\n",
    "import matplotlib.pyplot as plt\n",
    "import seaborn as sns\n",
    "from sklearn.metrics import confusion_matrix, ConfusionMatrixDisplay\n",
    "from sklearn.model_selection import train_test_split\n",
    "from sklearn.model_selection import KFold\n",
    "import glob\n",
    "from torch.utils.data import DataLoader\n",
    "import os\n",
    "import cv2\n",
    "import torch\n",
    "from torch.utils.data import Dataset, DataLoader,Subset\n",
    "from tqdm import tqdm\n",
    "import json\n",
    "import random\n",
    "import math\n",
    "from sklearn.metrics import accuracy_score, precision_score, recall_score, f1_score, roc_auc_score,confusion_matrix\n",
    "import time\n",
    "import matplotlib.pyplot as plt\n",
    "from sklearn.metrics import roc_auc_score, roc_curve, auc"
   ]
  },
  {
   "cell_type": "code",
   "execution_count": 3,
   "metadata": {
    "id": "bKJQJzRDP4yr"
   },
   "outputs": [],
   "source": [
    "def set_seed(seed: int):\n",
    "    \"\"\"Seed everything for reproducibility.\"\"\"\n",
    "    random.seed(seed)\n",
    "    np.random.seed(seed)\n",
    "    torch.manual_seed(seed)\n",
    "    torch.cuda.manual_seed_all(seed)\n",
    "    # enforce deterministic algorithms (may slow things down)\n",
    "    torch.backends.cudnn.deterministic = True\n",
    "    torch.backends.cudnn.benchmark = False\n",
    "    # torch 2.x: fully deterministic\n",
    "    if hasattr(torch, \"use_deterministic_algorithms\"):\n",
    "        torch.use_deterministic_algorithms(True)\n",
    "# os.environ[\"CUBLAS_WORKSPACE_CONFIG\"] = \":4096:8\"\n",
    "# choose your seed\n",
    "seed_list = [3,5,11,1344,2506]\n",
    "SEED = 3\n",
    "set_seed(SEED)"
   ]
  },
  {
   "cell_type": "code",
   "execution_count": 4,
   "metadata": {
    "colab": {
     "base_uri": "https://localhost:8080/"
    },
    "executionInfo": {
     "elapsed": 12,
     "status": "ok",
     "timestamp": 1753166192918,
     "user": {
      "displayName": "Anwesh Nayak",
      "userId": "10812060260948452341"
     },
     "user_tz": -330
    },
    "id": "dQqv_b4U3_vp",
    "outputId": "77f35a17-2ff7-49f5-b98a-e42e478dc49e"
   },
   "outputs": [
    {
     "data": {
      "text/plain": [
       "device(type='cuda')"
      ]
     },
     "execution_count": 4,
     "metadata": {},
     "output_type": "execute_result"
    }
   ],
   "source": [
    "device = torch.device(\"cuda\" if torch.cuda.is_available() else \"cpu\")\n",
    "device"
   ]
  },
  {
   "cell_type": "markdown",
   "metadata": {
    "id": "TygqvzSx0PC-"
   },
   "source": [
    "## Data"
   ]
  },
  {
   "cell_type": "code",
   "execution_count": 5,
   "metadata": {
    "id": "Al4AhFQz52AL"
   },
   "outputs": [],
   "source": [
    "NATURE_CLASSES = [\"01. Normal\", \"02. Variation from normal\", \"03. OPMD\", \"04. Oral Cancer\"]\n",
    "UNANNOTATED_SUBDIR = \"01. Unannotated\""
   ]
  },
  {
   "cell_type": "code",
   "execution_count": 6,
   "metadata": {
    "id": "OOc1ltaK0Wxe"
   },
   "outputs": [],
   "source": [
    "ROOT_DIR = r\"**path to dataset directory**""
   ]
  },
  {
   "cell_type": "code",
   "execution_count": 7,
   "metadata": {},
   "outputs": [],
   "source": [
    "data = []\n",
    "for nature in NATURE_CLASSES:\n",
    "    nature_path = os.path.join(ROOT_DIR, nature)\n",
    "    nature_path = os.path.join(nature_path,UNANNOTATED_SUBDIR)\n",
    "    if not os.path.exists(nature_path):\n",
    "        print(nature_path)\n",
    "        continue\n",
    "\n",
    "    for site in os.listdir(nature_path):\n",
    "        site_path = os.path.join(nature_path, site)\n",
    "        if not os.path.isdir(site_path):\n",
    "            continue\n",
    "\n",
    "        # Get all image files (you can restrict by extensions if needed)\n",
    "        image_files = glob.glob(os.path.join(site_path, '*'))\n",
    "        for img_path in image_files:\n",
    "            data.append({\n",
    "                \"image_path\": img_path,\n",
    "                \"nature\": nature.replace(\"01. \", \"\").replace(\"02. \", \"\").replace(\"03. \", \"\").replace(\"04. \", \"\"),\n",
    "                \"site\": site.split(\". \", 1)[-1] if \". \" in site else site\n",
    "            })"
   ]
  },
  {
   "cell_type": "code",
   "execution_count": 8,
   "metadata": {
    "colab": {
     "base_uri": "https://localhost:8080/",
     "height": 423
    },
    "executionInfo": {
     "elapsed": 137,
     "status": "ok",
     "timestamp": 1753166208879,
     "user": {
      "displayName": "Anwesh Nayak",
      "userId": "10812060260948452341"
     },
     "user_tz": -330
    },
    "id": "aDzg80mh0Dte",
    "outputId": "eaea786b-7108-45e1-8ffa-d8a7a2bbc8aa"
   },
   "outputs": [
    {
     "data": {
      "text/html": [
       "<div>\n",
       "<style scoped>\n",
       "    .dataframe tbody tr th:only-of-type {\n",
       "        vertical-align: middle;\n",
       "    }\n",
       "\n",
       "    .dataframe tbody tr th {\n",
       "        vertical-align: top;\n",
       "    }\n",
       "\n",
       "    .dataframe thead th {\n",
       "        text-align: right;\n",
       "    }\n",
       "</style>\n",
       "<table border=\"1\" class=\"dataframe\">\n",
       "  <thead>\n",
       "    <tr style=\"text-align: right;\">\n",
       "      <th></th>\n",
       "      <th>image_path</th>\n",
       "      <th>nature</th>\n",
       "      <th>site</th>\n",
       "    </tr>\n",
       "  </thead>\n",
       "  <tbody>\n",
       "    <tr>\n",
       "      <th>0</th>\n",
       "      <td>C:\\Users\\Anwesh\\Desktop\\Anwesh\\Oralpathology D...</td>\n",
       "      <td>Normal</td>\n",
       "      <td>Dorsal tongue</td>\n",
       "    </tr>\n",
       "    <tr>\n",
       "      <th>1</th>\n",
       "      <td>C:\\Users\\Anwesh\\Desktop\\Anwesh\\Oralpathology D...</td>\n",
       "      <td>Normal</td>\n",
       "      <td>Dorsal tongue</td>\n",
       "    </tr>\n",
       "    <tr>\n",
       "      <th>2</th>\n",
       "      <td>C:\\Users\\Anwesh\\Desktop\\Anwesh\\Oralpathology D...</td>\n",
       "      <td>Normal</td>\n",
       "      <td>Dorsal tongue</td>\n",
       "    </tr>\n",
       "    <tr>\n",
       "      <th>3</th>\n",
       "      <td>C:\\Users\\Anwesh\\Desktop\\Anwesh\\Oralpathology D...</td>\n",
       "      <td>Normal</td>\n",
       "      <td>Dorsal tongue</td>\n",
       "    </tr>\n",
       "    <tr>\n",
       "      <th>4</th>\n",
       "      <td>C:\\Users\\Anwesh\\Desktop\\Anwesh\\Oralpathology D...</td>\n",
       "      <td>Normal</td>\n",
       "      <td>Dorsal tongue</td>\n",
       "    </tr>\n",
       "    <tr>\n",
       "      <th>...</th>\n",
       "      <td>...</td>\n",
       "      <td>...</td>\n",
       "      <td>...</td>\n",
       "    </tr>\n",
       "    <tr>\n",
       "      <th>2464</th>\n",
       "      <td>C:\\Users\\Anwesh\\Desktop\\Anwesh\\Oralpathology D...</td>\n",
       "      <td>Oral Cancer</td>\n",
       "      <td>Lower lip</td>\n",
       "    </tr>\n",
       "    <tr>\n",
       "      <th>2465</th>\n",
       "      <td>C:\\Users\\Anwesh\\Desktop\\Anwesh\\Oralpathology D...</td>\n",
       "      <td>Oral Cancer</td>\n",
       "      <td>Upper arch</td>\n",
       "    </tr>\n",
       "    <tr>\n",
       "      <th>2466</th>\n",
       "      <td>C:\\Users\\Anwesh\\Desktop\\Anwesh\\Oralpathology D...</td>\n",
       "      <td>Oral Cancer</td>\n",
       "      <td>Upper arch</td>\n",
       "    </tr>\n",
       "    <tr>\n",
       "      <th>2467</th>\n",
       "      <td>C:\\Users\\Anwesh\\Desktop\\Anwesh\\Oralpathology D...</td>\n",
       "      <td>Oral Cancer</td>\n",
       "      <td>Lower arch</td>\n",
       "    </tr>\n",
       "    <tr>\n",
       "      <th>2468</th>\n",
       "      <td>C:\\Users\\Anwesh\\Desktop\\Anwesh\\Oralpathology D...</td>\n",
       "      <td>Oral Cancer</td>\n",
       "      <td>Lower arch</td>\n",
       "    </tr>\n",
       "  </tbody>\n",
       "</table>\n",
       "<p>2469 rows × 3 columns</p>\n",
       "</div>"
      ],
      "text/plain": [
       "                                             image_path       nature  \\\n",
       "0     C:\\Users\\Anwesh\\Desktop\\Anwesh\\Oralpathology D...       Normal   \n",
       "1     C:\\Users\\Anwesh\\Desktop\\Anwesh\\Oralpathology D...       Normal   \n",
       "2     C:\\Users\\Anwesh\\Desktop\\Anwesh\\Oralpathology D...       Normal   \n",
       "3     C:\\Users\\Anwesh\\Desktop\\Anwesh\\Oralpathology D...       Normal   \n",
       "4     C:\\Users\\Anwesh\\Desktop\\Anwesh\\Oralpathology D...       Normal   \n",
       "...                                                 ...          ...   \n",
       "2464  C:\\Users\\Anwesh\\Desktop\\Anwesh\\Oralpathology D...  Oral Cancer   \n",
       "2465  C:\\Users\\Anwesh\\Desktop\\Anwesh\\Oralpathology D...  Oral Cancer   \n",
       "2466  C:\\Users\\Anwesh\\Desktop\\Anwesh\\Oralpathology D...  Oral Cancer   \n",
       "2467  C:\\Users\\Anwesh\\Desktop\\Anwesh\\Oralpathology D...  Oral Cancer   \n",
       "2468  C:\\Users\\Anwesh\\Desktop\\Anwesh\\Oralpathology D...  Oral Cancer   \n",
       "\n",
       "               site  \n",
       "0     Dorsal tongue  \n",
       "1     Dorsal tongue  \n",
       "2     Dorsal tongue  \n",
       "3     Dorsal tongue  \n",
       "4     Dorsal tongue  \n",
       "...             ...  \n",
       "2464      Lower lip  \n",
       "2465     Upper arch  \n",
       "2466     Upper arch  \n",
       "2467     Lower arch  \n",
       "2468     Lower arch  \n",
       "\n",
       "[2469 rows x 3 columns]"
      ]
     },
     "execution_count": 8,
     "metadata": {},
     "output_type": "execute_result"
    }
   ],
   "source": [
    "# Convert to DataFrame\n",
    "df = pd.DataFrame(data)\n",
    "df"
   ]
  },
  {
   "cell_type": "code",
   "execution_count": 24,
   "metadata": {},
   "outputs": [],
   "source": [
    "def get_encoded_df(df):\n",
    "  df_enc = df\n",
    "  df_enc['label'] = df_enc['nature'].apply(lambda x: 0 if str(x).lower() == 'normal' else 1)\n",
    "  # df_enc.drop(columns=['nature'], inplace=True)\n",
    "  return df_enc"
   ]
  },
  {
   "cell_type": "code",
   "execution_count": 22,
   "metadata": {},
   "outputs": [],
   "source": [
    "total_df_enc = get_encoded_df(df)"
   ]
  },
  {
   "cell_type": "code",
   "execution_count": 23,
   "metadata": {},
   "outputs": [
    {
     "data": {
      "text/html": [
       "<div>\n",
       "<style scoped>\n",
       "    .dataframe tbody tr th:only-of-type {\n",
       "        vertical-align: middle;\n",
       "    }\n",
       "\n",
       "    .dataframe tbody tr th {\n",
       "        vertical-align: top;\n",
       "    }\n",
       "\n",
       "    .dataframe thead th {\n",
       "        text-align: right;\n",
       "    }\n",
       "</style>\n",
       "<table border=\"1\" class=\"dataframe\">\n",
       "  <thead>\n",
       "    <tr style=\"text-align: right;\">\n",
       "      <th></th>\n",
       "      <th>image_path</th>\n",
       "      <th>nature</th>\n",
       "      <th>site</th>\n",
       "      <th>stratify_key</th>\n",
       "      <th>label</th>\n",
       "    </tr>\n",
       "  </thead>\n",
       "  <tbody>\n",
       "    <tr>\n",
       "      <th>0</th>\n",
       "      <td>C:\\Users\\Anwesh\\Desktop\\Anwesh\\Oralpathology D...</td>\n",
       "      <td>Normal</td>\n",
       "      <td>Dorsal tongue</td>\n",
       "      <td>Normal - Dorsal tongue</td>\n",
       "      <td>0</td>\n",
       "    </tr>\n",
       "    <tr>\n",
       "      <th>1</th>\n",
       "      <td>C:\\Users\\Anwesh\\Desktop\\Anwesh\\Oralpathology D...</td>\n",
       "      <td>Normal</td>\n",
       "      <td>Dorsal tongue</td>\n",
       "      <td>Normal - Dorsal tongue</td>\n",
       "      <td>0</td>\n",
       "    </tr>\n",
       "    <tr>\n",
       "      <th>2</th>\n",
       "      <td>C:\\Users\\Anwesh\\Desktop\\Anwesh\\Oralpathology D...</td>\n",
       "      <td>Normal</td>\n",
       "      <td>Dorsal tongue</td>\n",
       "      <td>Normal - Dorsal tongue</td>\n",
       "      <td>0</td>\n",
       "    </tr>\n",
       "    <tr>\n",
       "      <th>3</th>\n",
       "      <td>C:\\Users\\Anwesh\\Desktop\\Anwesh\\Oralpathology D...</td>\n",
       "      <td>Normal</td>\n",
       "      <td>Dorsal tongue</td>\n",
       "      <td>Normal - Dorsal tongue</td>\n",
       "      <td>0</td>\n",
       "    </tr>\n",
       "    <tr>\n",
       "      <th>4</th>\n",
       "      <td>C:\\Users\\Anwesh\\Desktop\\Anwesh\\Oralpathology D...</td>\n",
       "      <td>Normal</td>\n",
       "      <td>Dorsal tongue</td>\n",
       "      <td>Normal - Dorsal tongue</td>\n",
       "      <td>0</td>\n",
       "    </tr>\n",
       "    <tr>\n",
       "      <th>...</th>\n",
       "      <td>...</td>\n",
       "      <td>...</td>\n",
       "      <td>...</td>\n",
       "      <td>...</td>\n",
       "      <td>...</td>\n",
       "    </tr>\n",
       "    <tr>\n",
       "      <th>2464</th>\n",
       "      <td>C:\\Users\\Anwesh\\Desktop\\Anwesh\\Oralpathology D...</td>\n",
       "      <td>OC</td>\n",
       "      <td>Lower lip</td>\n",
       "      <td>OC - Lower lip</td>\n",
       "      <td>1</td>\n",
       "    </tr>\n",
       "    <tr>\n",
       "      <th>2465</th>\n",
       "      <td>C:\\Users\\Anwesh\\Desktop\\Anwesh\\Oralpathology D...</td>\n",
       "      <td>OC</td>\n",
       "      <td>Upper arch</td>\n",
       "      <td>OC - Upper arch</td>\n",
       "      <td>1</td>\n",
       "    </tr>\n",
       "    <tr>\n",
       "      <th>2466</th>\n",
       "      <td>C:\\Users\\Anwesh\\Desktop\\Anwesh\\Oralpathology D...</td>\n",
       "      <td>OC</td>\n",
       "      <td>Upper arch</td>\n",
       "      <td>OC - Upper arch</td>\n",
       "      <td>1</td>\n",
       "    </tr>\n",
       "    <tr>\n",
       "      <th>2467</th>\n",
       "      <td>C:\\Users\\Anwesh\\Desktop\\Anwesh\\Oralpathology D...</td>\n",
       "      <td>OC</td>\n",
       "      <td>Lower arch</td>\n",
       "      <td>OC - Lower arch</td>\n",
       "      <td>1</td>\n",
       "    </tr>\n",
       "    <tr>\n",
       "      <th>2468</th>\n",
       "      <td>C:\\Users\\Anwesh\\Desktop\\Anwesh\\Oralpathology D...</td>\n",
       "      <td>OC</td>\n",
       "      <td>Lower arch</td>\n",
       "      <td>OC - Lower arch</td>\n",
       "      <td>1</td>\n",
       "    </tr>\n",
       "  </tbody>\n",
       "</table>\n",
       "<p>2469 rows × 5 columns</p>\n",
       "</div>"
      ],
      "text/plain": [
       "                                             image_path  nature  \\\n",
       "0     C:\\Users\\Anwesh\\Desktop\\Anwesh\\Oralpathology D...  Normal   \n",
       "1     C:\\Users\\Anwesh\\Desktop\\Anwesh\\Oralpathology D...  Normal   \n",
       "2     C:\\Users\\Anwesh\\Desktop\\Anwesh\\Oralpathology D...  Normal   \n",
       "3     C:\\Users\\Anwesh\\Desktop\\Anwesh\\Oralpathology D...  Normal   \n",
       "4     C:\\Users\\Anwesh\\Desktop\\Anwesh\\Oralpathology D...  Normal   \n",
       "...                                                 ...     ...   \n",
       "2464  C:\\Users\\Anwesh\\Desktop\\Anwesh\\Oralpathology D...      OC   \n",
       "2465  C:\\Users\\Anwesh\\Desktop\\Anwesh\\Oralpathology D...      OC   \n",
       "2466  C:\\Users\\Anwesh\\Desktop\\Anwesh\\Oralpathology D...      OC   \n",
       "2467  C:\\Users\\Anwesh\\Desktop\\Anwesh\\Oralpathology D...      OC   \n",
       "2468  C:\\Users\\Anwesh\\Desktop\\Anwesh\\Oralpathology D...      OC   \n",
       "\n",
       "               site            stratify_key  label  \n",
       "0     Dorsal tongue  Normal - Dorsal tongue      0  \n",
       "1     Dorsal tongue  Normal - Dorsal tongue      0  \n",
       "2     Dorsal tongue  Normal - Dorsal tongue      0  \n",
       "3     Dorsal tongue  Normal - Dorsal tongue      0  \n",
       "4     Dorsal tongue  Normal - Dorsal tongue      0  \n",
       "...             ...                     ...    ...  \n",
       "2464      Lower lip          OC - Lower lip      1  \n",
       "2465     Upper arch         OC - Upper arch      1  \n",
       "2466     Upper arch         OC - Upper arch      1  \n",
       "2467     Lower arch         OC - Lower arch      1  \n",
       "2468     Lower arch         OC - Lower arch      1  \n",
       "\n",
       "[2469 rows x 5 columns]"
      ]
     },
     "execution_count": 23,
     "metadata": {},
     "output_type": "execute_result"
    }
   ],
   "source": [
    "total_df_enc"
   ]
  },
  {
   "cell_type": "code",
   "execution_count": 9,
   "metadata": {
    "colab": {
     "base_uri": "https://localhost:8080/"
    },
    "executionInfo": {
     "elapsed": 14,
     "status": "ok",
     "timestamp": 1753166209103,
     "user": {
      "displayName": "Anwesh Nayak",
      "userId": "10812060260948452341"
     },
     "user_tz": -330
    },
    "id": "liC4TPF5MO91",
    "outputId": "17cf80a8-dd9e-45ff-96e6-13c352650c7a"
   },
   "outputs": [
    {
     "name": "stdout",
     "output_type": "stream",
     "text": [
      "Series([], Name: count, dtype: int64)\n"
     ]
    }
   ],
   "source": [
    "duplicate_paths = df[df.duplicated(subset=\"image_path\", keep=False)][\"image_path\"].value_counts()\n",
    "print(duplicate_paths)"
   ]
  },
  {
   "cell_type": "code",
   "execution_count": 10,
   "metadata": {},
   "outputs": [],
   "source": [
    "df[\"nature\"] = df[\"nature\"].replace({\n",
    "    \"Variation from normal\": \"Var\",\n",
    "    \"Oral Cancer\": \"OC\"})"
   ]
  },
  {
   "cell_type": "code",
   "execution_count": 30,
   "metadata": {
    "colab": {
     "base_uri": "https://localhost:8080/"
    },
    "executionInfo": {
     "elapsed": 13,
     "status": "ok",
     "timestamp": 1753166209118,
     "user": {
      "displayName": "Anwesh Nayak",
      "userId": "10812060260948452341"
     },
     "user_tz": -330
    },
    "id": "3X-3qCFCKMwt",
    "outputId": "9085bf93-2bfa-498d-8337-01018aba1d05"
   },
   "outputs": [
    {
     "name": "stdout",
     "output_type": "stream",
     "text": [
      "Total samples: 2469\n",
      "Train: 1975\n",
      "Test:  494\n",
      "Sum:   2469\n"
     ]
    }
   ],
   "source": [
    "# Step 1: Create stratify key\n",
    "df[\"stratify_key\"] = df[\"nature\"] + \" - \" + df[\"site\"]\n",
    "\n",
    "# Step 2: Separate rare groups (initial stratify)\n",
    "group_counts = df[\"stratify_key\"].value_counts()\n",
    "valid_keys = group_counts[group_counts >= 2].index\n",
    "\n",
    "strat_df = df[df[\"stratify_key\"].isin(valid_keys)].reset_index(drop=True)\n",
    "non_strat_df = df[~df[\"stratify_key\"].isin(valid_keys)].reset_index(drop=True)\n",
    "\n",
    "# Step 3: Stratified train_val/test split\n",
    "train_strat_df, test_df = train_test_split(\n",
    "    strat_df,\n",
    "    test_size=0.2,\n",
    "    stratify=strat_df[\"stratify_key\"],\n",
    "    random_state=SEED\n",
    ")\n",
    "\n",
    "train_df = pd.concat([train_strat_df, non_strat_df], ignore_index=True)\n",
    "\n",
    "\n",
    "\n",
    "for d in [train_df, test_df]:\n",
    "    d.drop(columns=[\"stratify_key\"], inplace=True)\n",
    "\n",
    "print(f\"Total samples: {len(df)}\")\n",
    "print(f\"Train: {len(train_df)}\")\n",
    "print(f\"Test:  {len(test_df)}\")\n",
    "print(f\"Sum:   {len(train_df) +len(test_df)}\")"
   ]
  },
  {
   "cell_type": "code",
   "execution_count": 31,
   "metadata": {},
   "outputs": [],
   "source": [
    "train_df_enc = get_encoded_df(train_df)\n",
    "test_df_enc = get_encoded_df(test_df)"
   ]
  },
  {
   "cell_type": "code",
   "execution_count": 32,
   "metadata": {},
   "outputs": [
    {
     "name": "stdout",
     "output_type": "stream",
     "text": [
      "Total abnormal images: 324\n",
      "Total normal images: 2145\n",
      "Total samples: 2469\n"
     ]
    }
   ],
   "source": [
    "total_abnormal_count = (train_df_enc['label'] == 1).sum() + (test_df_enc['label'] == 1).sum()\n",
    "total_normal_count = (train_df_enc['label'] == 0).sum() + (test_df_enc['label'] == 0).sum()\n",
    "total_samples = len(train_df_enc) + len(test_df_enc)\n",
    "\n",
    "# Print\n",
    "print(\"Total abnormal images:\", total_abnormal_count)\n",
    "print(\"Total normal images:\", total_normal_count)\n",
    "print(\"Total samples:\", total_samples)"
   ]
  },
  {
   "cell_type": "code",
   "execution_count": 33,
   "metadata": {},
   "outputs": [],
   "source": [
    "test_df_enc.reset_index(inplace=True)"
   ]
  },
  {
   "cell_type": "code",
   "execution_count": 34,
   "metadata": {},
   "outputs": [
    {
     "data": {
      "text/plain": [
       "'C:\\\\Users\\\\Anwesh\\\\Desktop\\\\Anwesh\\\\Oralpathology Dataset Technical Validation\\\\Data\\\\SMART-OM\\\\03. OPMD\\\\01. Unannotated\\\\03. Left buccal mucosa\\\\SMITA00001_W_LB.jpeg'"
      ]
     },
     "execution_count": 34,
     "metadata": {},
     "output_type": "execute_result"
    }
   ],
   "source": [
    "test_df_enc['image_path'][1]"
   ]
  },
  {
   "cell_type": "code",
   "execution_count": 35,
   "metadata": {},
   "outputs": [
    {
     "data": {
      "text/html": [
       "<div>\n",
       "<style scoped>\n",
       "    .dataframe tbody tr th:only-of-type {\n",
       "        vertical-align: middle;\n",
       "    }\n",
       "\n",
       "    .dataframe tbody tr th {\n",
       "        vertical-align: top;\n",
       "    }\n",
       "\n",
       "    .dataframe thead th {\n",
       "        text-align: right;\n",
       "    }\n",
       "</style>\n",
       "<table border=\"1\" class=\"dataframe\">\n",
       "  <thead>\n",
       "    <tr style=\"text-align: right;\">\n",
       "      <th></th>\n",
       "      <th>image_path</th>\n",
       "      <th>nature</th>\n",
       "      <th>site</th>\n",
       "      <th>label</th>\n",
       "    </tr>\n",
       "  </thead>\n",
       "  <tbody>\n",
       "    <tr>\n",
       "      <th>0</th>\n",
       "      <td>C:\\Users\\Anwesh\\Desktop\\Anwesh\\Oralpathology D...</td>\n",
       "      <td>Normal</td>\n",
       "      <td>Dorsal tongue</td>\n",
       "      <td>0</td>\n",
       "    </tr>\n",
       "    <tr>\n",
       "      <th>1</th>\n",
       "      <td>C:\\Users\\Anwesh\\Desktop\\Anwesh\\Oralpathology D...</td>\n",
       "      <td>Normal</td>\n",
       "      <td>Upper arch</td>\n",
       "      <td>0</td>\n",
       "    </tr>\n",
       "    <tr>\n",
       "      <th>2</th>\n",
       "      <td>C:\\Users\\Anwesh\\Desktop\\Anwesh\\Oralpathology D...</td>\n",
       "      <td>Normal</td>\n",
       "      <td>Ventral tongue</td>\n",
       "      <td>0</td>\n",
       "    </tr>\n",
       "    <tr>\n",
       "      <th>3</th>\n",
       "      <td>C:\\Users\\Anwesh\\Desktop\\Anwesh\\Oralpathology D...</td>\n",
       "      <td>Normal</td>\n",
       "      <td>Left buccal mucosa</td>\n",
       "      <td>0</td>\n",
       "    </tr>\n",
       "    <tr>\n",
       "      <th>4</th>\n",
       "      <td>C:\\Users\\Anwesh\\Desktop\\Anwesh\\Oralpathology D...</td>\n",
       "      <td>Normal</td>\n",
       "      <td>Dorsal tongue</td>\n",
       "      <td>0</td>\n",
       "    </tr>\n",
       "    <tr>\n",
       "      <th>...</th>\n",
       "      <td>...</td>\n",
       "      <td>...</td>\n",
       "      <td>...</td>\n",
       "      <td>...</td>\n",
       "    </tr>\n",
       "    <tr>\n",
       "      <th>1970</th>\n",
       "      <td>C:\\Users\\Anwesh\\Desktop\\Anwesh\\Oralpathology D...</td>\n",
       "      <td>Normal</td>\n",
       "      <td>Lower lip</td>\n",
       "      <td>0</td>\n",
       "    </tr>\n",
       "    <tr>\n",
       "      <th>1971</th>\n",
       "      <td>C:\\Users\\Anwesh\\Desktop\\Anwesh\\Oralpathology D...</td>\n",
       "      <td>OPMD</td>\n",
       "      <td>Right buccal mucosa</td>\n",
       "      <td>1</td>\n",
       "    </tr>\n",
       "    <tr>\n",
       "      <th>1972</th>\n",
       "      <td>C:\\Users\\Anwesh\\Desktop\\Anwesh\\Oralpathology D...</td>\n",
       "      <td>OPMD</td>\n",
       "      <td>Ventral tongue</td>\n",
       "      <td>1</td>\n",
       "    </tr>\n",
       "    <tr>\n",
       "      <th>1973</th>\n",
       "      <td>C:\\Users\\Anwesh\\Desktop\\Anwesh\\Oralpathology D...</td>\n",
       "      <td>OPMD</td>\n",
       "      <td>Upper lip</td>\n",
       "      <td>1</td>\n",
       "    </tr>\n",
       "    <tr>\n",
       "      <th>1974</th>\n",
       "      <td>C:\\Users\\Anwesh\\Desktop\\Anwesh\\Oralpathology D...</td>\n",
       "      <td>OC</td>\n",
       "      <td>Lower lip</td>\n",
       "      <td>1</td>\n",
       "    </tr>\n",
       "  </tbody>\n",
       "</table>\n",
       "<p>1975 rows × 4 columns</p>\n",
       "</div>"
      ],
      "text/plain": [
       "                                             image_path  nature  \\\n",
       "0     C:\\Users\\Anwesh\\Desktop\\Anwesh\\Oralpathology D...  Normal   \n",
       "1     C:\\Users\\Anwesh\\Desktop\\Anwesh\\Oralpathology D...  Normal   \n",
       "2     C:\\Users\\Anwesh\\Desktop\\Anwesh\\Oralpathology D...  Normal   \n",
       "3     C:\\Users\\Anwesh\\Desktop\\Anwesh\\Oralpathology D...  Normal   \n",
       "4     C:\\Users\\Anwesh\\Desktop\\Anwesh\\Oralpathology D...  Normal   \n",
       "...                                                 ...     ...   \n",
       "1970  C:\\Users\\Anwesh\\Desktop\\Anwesh\\Oralpathology D...  Normal   \n",
       "1971  C:\\Users\\Anwesh\\Desktop\\Anwesh\\Oralpathology D...    OPMD   \n",
       "1972  C:\\Users\\Anwesh\\Desktop\\Anwesh\\Oralpathology D...    OPMD   \n",
       "1973  C:\\Users\\Anwesh\\Desktop\\Anwesh\\Oralpathology D...    OPMD   \n",
       "1974  C:\\Users\\Anwesh\\Desktop\\Anwesh\\Oralpathology D...      OC   \n",
       "\n",
       "                     site  label  \n",
       "0           Dorsal tongue      0  \n",
       "1              Upper arch      0  \n",
       "2          Ventral tongue      0  \n",
       "3      Left buccal mucosa      0  \n",
       "4           Dorsal tongue      0  \n",
       "...                   ...    ...  \n",
       "1970            Lower lip      0  \n",
       "1971  Right buccal mucosa      1  \n",
       "1972       Ventral tongue      1  \n",
       "1973            Upper lip      1  \n",
       "1974            Lower lip      1  \n",
       "\n",
       "[1975 rows x 4 columns]"
      ]
     },
     "execution_count": 35,
     "metadata": {},
     "output_type": "execute_result"
    }
   ],
   "source": [
    "train_df_enc"
   ]
  },
  {
   "cell_type": "code",
   "execution_count": 36,
   "metadata": {},
   "outputs": [
    {
     "data": {
      "text/html": [
       "<div>\n",
       "<style scoped>\n",
       "    .dataframe tbody tr th:only-of-type {\n",
       "        vertical-align: middle;\n",
       "    }\n",
       "\n",
       "    .dataframe tbody tr th {\n",
       "        vertical-align: top;\n",
       "    }\n",
       "\n",
       "    .dataframe thead th {\n",
       "        text-align: right;\n",
       "    }\n",
       "</style>\n",
       "<table border=\"1\" class=\"dataframe\">\n",
       "  <thead>\n",
       "    <tr style=\"text-align: right;\">\n",
       "      <th></th>\n",
       "      <th>index</th>\n",
       "      <th>image_path</th>\n",
       "      <th>nature</th>\n",
       "      <th>site</th>\n",
       "      <th>label</th>\n",
       "    </tr>\n",
       "  </thead>\n",
       "  <tbody>\n",
       "    <tr>\n",
       "      <th>0</th>\n",
       "      <td>611</td>\n",
       "      <td>C:\\Users\\Anwesh\\Desktop\\Anwesh\\Oralpathology D...</td>\n",
       "      <td>Normal</td>\n",
       "      <td>Left buccal mucosa</td>\n",
       "      <td>0</td>\n",
       "    </tr>\n",
       "    <tr>\n",
       "      <th>1</th>\n",
       "      <td>2325</td>\n",
       "      <td>C:\\Users\\Anwesh\\Desktop\\Anwesh\\Oralpathology D...</td>\n",
       "      <td>OPMD</td>\n",
       "      <td>Left buccal mucosa</td>\n",
       "      <td>1</td>\n",
       "    </tr>\n",
       "    <tr>\n",
       "      <th>2</th>\n",
       "      <td>99</td>\n",
       "      <td>C:\\Users\\Anwesh\\Desktop\\Anwesh\\Oralpathology D...</td>\n",
       "      <td>Normal</td>\n",
       "      <td>Dorsal tongue</td>\n",
       "      <td>0</td>\n",
       "    </tr>\n",
       "    <tr>\n",
       "      <th>3</th>\n",
       "      <td>144</td>\n",
       "      <td>C:\\Users\\Anwesh\\Desktop\\Anwesh\\Oralpathology D...</td>\n",
       "      <td>Normal</td>\n",
       "      <td>Dorsal tongue</td>\n",
       "      <td>0</td>\n",
       "    </tr>\n",
       "    <tr>\n",
       "      <th>4</th>\n",
       "      <td>612</td>\n",
       "      <td>C:\\Users\\Anwesh\\Desktop\\Anwesh\\Oralpathology D...</td>\n",
       "      <td>Normal</td>\n",
       "      <td>Left buccal mucosa</td>\n",
       "      <td>0</td>\n",
       "    </tr>\n",
       "    <tr>\n",
       "      <th>...</th>\n",
       "      <td>...</td>\n",
       "      <td>...</td>\n",
       "      <td>...</td>\n",
       "      <td>...</td>\n",
       "      <td>...</td>\n",
       "    </tr>\n",
       "    <tr>\n",
       "      <th>489</th>\n",
       "      <td>1216</td>\n",
       "      <td>C:\\Users\\Anwesh\\Desktop\\Anwesh\\Oralpathology D...</td>\n",
       "      <td>Normal</td>\n",
       "      <td>Upper lip</td>\n",
       "      <td>0</td>\n",
       "    </tr>\n",
       "    <tr>\n",
       "      <th>490</th>\n",
       "      <td>2165</td>\n",
       "      <td>C:\\Users\\Anwesh\\Desktop\\Anwesh\\Oralpathology D...</td>\n",
       "      <td>Var</td>\n",
       "      <td>Dorsal tongue</td>\n",
       "      <td>1</td>\n",
       "    </tr>\n",
       "    <tr>\n",
       "      <th>491</th>\n",
       "      <td>398</td>\n",
       "      <td>C:\\Users\\Anwesh\\Desktop\\Anwesh\\Oralpathology D...</td>\n",
       "      <td>Normal</td>\n",
       "      <td>Ventral tongue</td>\n",
       "      <td>0</td>\n",
       "    </tr>\n",
       "    <tr>\n",
       "      <th>492</th>\n",
       "      <td>668</td>\n",
       "      <td>C:\\Users\\Anwesh\\Desktop\\Anwesh\\Oralpathology D...</td>\n",
       "      <td>Normal</td>\n",
       "      <td>Left buccal mucosa</td>\n",
       "      <td>0</td>\n",
       "    </tr>\n",
       "    <tr>\n",
       "      <th>493</th>\n",
       "      <td>2097</td>\n",
       "      <td>C:\\Users\\Anwesh\\Desktop\\Anwesh\\Oralpathology D...</td>\n",
       "      <td>Normal</td>\n",
       "      <td>Lower arch</td>\n",
       "      <td>0</td>\n",
       "    </tr>\n",
       "  </tbody>\n",
       "</table>\n",
       "<p>494 rows × 5 columns</p>\n",
       "</div>"
      ],
      "text/plain": [
       "     index                                         image_path  nature  \\\n",
       "0      611  C:\\Users\\Anwesh\\Desktop\\Anwesh\\Oralpathology D...  Normal   \n",
       "1     2325  C:\\Users\\Anwesh\\Desktop\\Anwesh\\Oralpathology D...    OPMD   \n",
       "2       99  C:\\Users\\Anwesh\\Desktop\\Anwesh\\Oralpathology D...  Normal   \n",
       "3      144  C:\\Users\\Anwesh\\Desktop\\Anwesh\\Oralpathology D...  Normal   \n",
       "4      612  C:\\Users\\Anwesh\\Desktop\\Anwesh\\Oralpathology D...  Normal   \n",
       "..     ...                                                ...     ...   \n",
       "489   1216  C:\\Users\\Anwesh\\Desktop\\Anwesh\\Oralpathology D...  Normal   \n",
       "490   2165  C:\\Users\\Anwesh\\Desktop\\Anwesh\\Oralpathology D...     Var   \n",
       "491    398  C:\\Users\\Anwesh\\Desktop\\Anwesh\\Oralpathology D...  Normal   \n",
       "492    668  C:\\Users\\Anwesh\\Desktop\\Anwesh\\Oralpathology D...  Normal   \n",
       "493   2097  C:\\Users\\Anwesh\\Desktop\\Anwesh\\Oralpathology D...  Normal   \n",
       "\n",
       "                   site  label  \n",
       "0    Left buccal mucosa      0  \n",
       "1    Left buccal mucosa      1  \n",
       "2         Dorsal tongue      0  \n",
       "3         Dorsal tongue      0  \n",
       "4    Left buccal mucosa      0  \n",
       "..                  ...    ...  \n",
       "489           Upper lip      0  \n",
       "490       Dorsal tongue      1  \n",
       "491      Ventral tongue      0  \n",
       "492  Left buccal mucosa      0  \n",
       "493          Lower arch      0  \n",
       "\n",
       "[494 rows x 5 columns]"
      ]
     },
     "execution_count": 36,
     "metadata": {},
     "output_type": "execute_result"
    }
   ],
   "source": [
    "test_df_enc"
   ]
  },
  {
   "cell_type": "code",
   "execution_count": 71,
   "metadata": {},
   "outputs": [
    {
     "data": {
      "text/plain": [
       "array(['Left buccal mucosa', 'Right buccal mucosa', 'Lower lip',\n",
       "       'Dorsal tongue', 'Ventral tongue', 'Upper arch'], dtype=object)"
      ]
     },
     "execution_count": 71,
     "metadata": {},
     "output_type": "execute_result"
    }
   ],
   "source": [
    "test_df_enc[test_df_enc['label']==1]['site'].unique()"
   ]
  },
  {
   "cell_type": "code",
   "execution_count": 72,
   "metadata": {},
   "outputs": [
    {
     "data": {
      "text/plain": [
       "array(['Left buccal mucosa', 'Right buccal mucosa', 'Upper arch',\n",
       "       'Lower lip', 'Ventral tongue', 'Dorsal tongue', 'Lower arch',\n",
       "       'Upper lip'], dtype=object)"
      ]
     },
     "execution_count": 72,
     "metadata": {},
     "output_type": "execute_result"
    }
   ],
   "source": [
    "train_df_enc[train_df_enc['label']==1]['site'].unique()"
   ]
  },
  {
   "cell_type": "code",
   "execution_count": 28,
   "metadata": {},
   "outputs": [],
   "source": [
    "# train_df_enc.to_csv('train_df_encoded1.csv', index=False)\n",
    "# print(\"DataFrame saved successfully to 'train_df_encoded1.csv\")\n",
    "\n",
    "# test_df_enc.to_csv('test_df_encoded1.csv', index=False)\n",
    "# print(\"DataFrame saved successfully to 'test_df_encoded1.csv\")"
   ]
  },
  {
   "cell_type": "code",
   "execution_count": 69,
   "metadata": {},
   "outputs": [
    {
     "data": {
      "image/png": "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",
      "text/plain": [
       "<Figure size 2000x1000 with 1 Axes>"
      ]
     },
     "metadata": {},
     "output_type": "display_data"
    }
   ],
   "source": [
    "import matplotlib.pyplot as plt\n",
    "import pandas as pd\n",
    "import numpy as np\n",
    "\n",
    "# Increase global font size (but keep legend smaller later)\n",
    "plt.rcParams.update({\n",
    "    \"font.size\": 16,          # Base font size\n",
    "    \"axes.titlesize\": 20,     # Title font size\n",
    "    \"axes.labelsize\": 16,     # X/Y label font size\n",
    "    \"xtick.labelsize\": 16,    # X-tick font size\n",
    "    \"ytick.labelsize\": 16,    # Y-tick font size\n",
    "})\n",
    "\n",
    "# Add dataset identifiers\n",
    "train_df_enc[\"set\"] = \"Train\"\n",
    "test_df_enc[\"set\"] = \"Test\"\n",
    "\n",
    "# Concatenate\n",
    "combined_df = pd.concat([train_df_enc, test_df_enc])\n",
    "\n",
    "# Site order\n",
    "site_order = [\n",
    "    \"Dorsal tongue\",\n",
    "    \"Ventral tongue\",\n",
    "    \"Left buccal mucosa\",\n",
    "    \"Right buccal mucosa\",\n",
    "    \"Upper lip\",\n",
    "    \"Lower lip\",\n",
    "    \"Upper arch\",\n",
    "    \"Lower arch\"\n",
    "]\n",
    "\n",
    "# Count per site, label, and set\n",
    "counts = combined_df.groupby([\"site\", \"label\", \"set\"]).size().reset_index(name=\"count\")\n",
    "\n",
    "# Pivot for stacking\n",
    "pivot = counts.pivot_table(index=[\"site\", \"label\"], columns=\"set\", values=\"count\", fill_value=0).reset_index()\n",
    "pivot[\"site\"] = pd.Categorical(pivot[\"site\"], categories=site_order, ordered=True)\n",
    "pivot = pivot.sort_values([\"site\", \"label\"])\n",
    "\n",
    "# Plot (make plot box bigger)\n",
    "fig, ax = plt.subplots(figsize=(20, 10))  # Bigger figure\n",
    "bar_width = 0.35\n",
    "x = np.arange(len(site_order))\n",
    "\n",
    "# Colors for Train vs Test\n",
    "colors = {\n",
    "    (0, \"Train\"): \"#c6dbef\",   # Normal Train\n",
    "    (0, \"Test\"):  \"#6baed6\",   # Normal Test\n",
    "    (1, \"Train\"): \"#fcbba1\",   # Abnormal Train\n",
    "    (1, \"Test\"):  \"#fb6a4a\"    # Abnormal Test\n",
    "}\n",
    "\n",
    "# Loop over labels → two bars per site\n",
    "for i, label in enumerate([0, 1]):\n",
    "    subset = pivot[pivot[\"label\"] == label]\n",
    "    positions = x + (i - 0.5) * bar_width\n",
    "    \n",
    "    # Train stacked first\n",
    "    ax.bar(\n",
    "        positions,\n",
    "        subset[\"Train\"],\n",
    "        width=bar_width,\n",
    "        color=colors[(label, \"Train\")],\n",
    "        edgecolor=\"black\",\n",
    "        linewidth=1.2,\n",
    "        label=f\"Train - {'Normal' if label==0 else 'Abnormal'}\"\n",
    "    )\n",
    "    \n",
    "    # Test stacked on top\n",
    "    ax.bar(\n",
    "        positions,\n",
    "        subset[\"Test\"],\n",
    "        bottom=subset[\"Train\"],\n",
    "        width=bar_width,\n",
    "        color=colors[(label, \"Test\")],\n",
    "        edgecolor=\"black\",\n",
    "        linewidth=1.2,\n",
    "        label=f\"Test - {'Normal' if label==0 else 'Abnormal'}\"\n",
    "    )\n",
    "\n",
    "# Formatting\n",
    "ax.set_xticks(x)\n",
    "ax.set_xticklabels(site_order, rotation=45, ha=\"right\")\n",
    "ax.set_ylabel(\"Count\", fontsize=16)\n",
    "ax.set_xlabel(\"Intra Oral Site\", fontsize=16)\n",
    "\n",
    "# Adjust ylim\n",
    "ymax = ax.get_ylim()[1]\n",
    "ax.set_ylim(0, ymax * 1.2)\n",
    "\n",
    "# Deduplicate legend and keep inside (smaller font & box)\n",
    "handles, labels = ax.get_legend_handles_labels()\n",
    "by_label = dict(zip(labels, handles))\n",
    "ax.legend(\n",
    "    by_label.values(),\n",
    "    by_label.keys(),\n",
    "    # title=\"Dataset + Label\",\n",
    "    loc=\"upper right\",         # inside top-right\n",
    "    frameon=False,\n",
    "    framealpha=1,            # slight transparency\n",
    "    borderpad=1,             # smaller padding inside\n",
    "    borderaxespad=0.1,         # distance from axes\n",
    "    handlelength=4,            # shorter legend handles\n",
    "    fontsize=16,               # smaller font size\n",
    "    # title_fontsize=12          # smaller title\n",
    ")\n",
    "\n",
    "# Frame\n",
    "for spine in ax.spines.values():\n",
    "    spine.set_edgecolor(\"black\")\n",
    "    spine.set_linewidth(1.2)\n",
    "\n",
    "plt.tight_layout()\n",
    "plt.savefig(\"final_site_label_stacked.png\", dpi=300, bbox_inches=\"tight\")\n",
    "plt.show()"
   ]
  },
  {
   "cell_type": "code",
   "execution_count": 47,
   "metadata": {},
   "outputs": [
    {
     "data": {
      "image/png": "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",
      "text/plain": [
       "<Figure size 1400x800 with 1 Axes>"
      ]
     },
     "metadata": {},
     "output_type": "display_data"
    }
   ],
   "source": [
    "import matplotlib.pyplot as plt\n",
    "import pandas as pd\n",
    "import numpy as np\n",
    "\n",
    "# Add dataset identifiers\n",
    "train_df_enc[\"set\"] = \"Train\"\n",
    "test_df_enc[\"set\"] = \"Test\"\n",
    "\n",
    "# Concatenate\n",
    "combined_df = pd.concat([train_df_enc, test_df_enc])\n",
    "\n",
    "# Site order\n",
    "site_order = [\n",
    "    \"Dorsal tongue\",\n",
    "    \"Ventral tongue\",\n",
    "    \"Left buccal mucosa\",\n",
    "    \"Right buccal mucosa\",\n",
    "    \"Upper lip\",\n",
    "    \"Lower lip\",\n",
    "    \"Upper arch\",\n",
    "    \"Lower arch\"\n",
    "]\n",
    "\n",
    "# Count per site, label, and set\n",
    "counts = combined_df.groupby([\"site\", \"label\", \"set\"]).size().reset_index(name=\"count\")\n",
    "\n",
    "# Pivot for stacking\n",
    "pivot = counts.pivot_table(index=[\"site\", \"label\"], columns=\"set\", values=\"count\", fill_value=0).reset_index()\n",
    "pivot[\"site\"] = pd.Categorical(pivot[\"site\"], categories=site_order, ordered=True)\n",
    "pivot = pivot.sort_values([\"site\", \"label\"])\n",
    "\n",
    "# Plot\n",
    "fig, ax = plt.subplots(figsize=(14, 8))\n",
    "bar_width = 0.35\n",
    "x = np.arange(len(site_order))\n",
    "\n",
    "# Colors for Train vs Test (subtle blues & reds)\n",
    "colors = {\n",
    "    (0, \"Train\"): \"#c6dbef\",   # very soft blue - Normal Train\n",
    "    (0, \"Test\"):  \"#6baed6\",   # medium soft blue - Normal Test\n",
    "    (1, \"Train\"): \"#fcbba1\",   # very soft red - Abnormal Train\n",
    "    (1, \"Test\"):  \"#fb6a4a\"    # medium soft red - Abnormal Test\n",
    "}\n",
    "\n",
    "# Loop over labels → two bars per site\n",
    "for i, label in enumerate([0, 1]):\n",
    "    subset = pivot[pivot[\"label\"] == label]\n",
    "    positions = x + (i - 0.5) * bar_width\n",
    "    \n",
    "    # Train stacked first\n",
    "    ax.bar(\n",
    "        positions,\n",
    "        subset[\"Train\"],\n",
    "        width=bar_width,\n",
    "        color=colors[(label, \"Train\")],\n",
    "        edgecolor=\"black\",\n",
    "        linewidth=1.2,\n",
    "        label=f\"Train - {'Normal' if label==0 else 'Abnormal'}\"\n",
    "    )\n",
    "    \n",
    "    # Test stacked on top\n",
    "    bars = ax.bar(\n",
    "        positions,\n",
    "        subset[\"Test\"],\n",
    "        bottom=subset[\"Train\"],\n",
    "        width=bar_width,\n",
    "        color=colors[(label, \"Test\")],\n",
    "        edgecolor=\"black\",\n",
    "        linewidth=1.2,\n",
    "        label=f\"Test - {'Normal' if label==0 else 'Abnormal'}\"\n",
    "    )\n",
    "    \n",
    "    # Annotate bar totals (Train+Test for that label)\n",
    "    for pos, train, test in zip(positions, subset[\"Train\"], subset[\"Test\"]):\n",
    "        total = int(train + test)\n",
    "        ax.text(\n",
    "            pos,\n",
    "            total + 1,  # a bit above the stacked bar\n",
    "            str(total),\n",
    "            ha=\"center\", va=\"bottom\", fontsize=10, fontweight=\"bold\"\n",
    "        )\n",
    "\n",
    "# Formatting\n",
    "ax.set_xticks(x)\n",
    "ax.set_xticklabels(site_order, rotation=45, ha=\"right\")\n",
    "ax.set_ylabel(\"Count\")\n",
    "ax.set_xlabel(\"Intra Oral Site\")\n",
    "\n",
    "# Adjust ylim\n",
    "ymax = ax.get_ylim()[1]\n",
    "ax.set_ylim(0, ymax * 1.2)\n",
    "\n",
    "# Deduplicate legend\n",
    "handles, labels = ax.get_legend_handles_labels()\n",
    "by_label = dict(zip(labels, handles))\n",
    "ax.legend(by_label.values(), by_label.keys(), title=\"Dataset + Label\", loc=\"upper right\", frameon=True)\n",
    "\n",
    "# Frame\n",
    "for spine in ax.spines.values():\n",
    "    spine.set_edgecolor(\"black\")\n",
    "    spine.set_linewidth(1.2)\n",
    "\n",
    "plt.tight_layout()\n",
    "plt.savefig(\"site_label_stacked_bar_totals.png\", dpi=300, bbox_inches=\"tight\")\n",
    "plt.show()"
   ]
  }
 ],
 "metadata": {
  "accelerator": "GPU",
  "colab": {
   "authorship_tag": "ABX9TyM5OT7HPsGvtKPAH4bpQK9F",
   "gpuType": "A100",
   "machine_shape": "hm",
   "mount_file_id": "1LLELlEvQbOLqf5l69y1Fu2yOTihqRxb9",
   "provenance": []
  },
  "kernelspec": {
   "display_name": "Python 3 (ipykernel)",
   "language": "python",
   "name": "python3"
  },
  "language_info": {
   "codemirror_mode": {
    "name": "ipython",
    "version": 3
   },
   "file_extension": ".py",
   "mimetype": "text/x-python",
   "name": "python",
   "nbconvert_exporter": "python",
   "pygments_lexer": "ipython3",
   "version": "3.13.5"
  }
 },
 "nbformat": 4,
 "nbformat_minor": 4
}
