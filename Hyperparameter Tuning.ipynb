{
 "cells": [
  {
   "cell_type": "code",
   "execution_count": 1,
   "metadata": {
    "colab": {
     "base_uri": "https://localhost:8080/"
    },
    "executionInfo": {
     "elapsed": 198,
     "status": "ok",
     "timestamp": 1753166171704,
     "user": {
      "displayName": "Anwesh Nayak",
      "userId": "10812060260948452341"
     },
     "user_tz": -330
    },
    "id": "zW7Yu_N27D4V",
    "outputId": "e2c9cc26-dae3-4b1f-d3dc-0a78f1dac33e"
   },
   "outputs": [
    {
     "name": "stdout",
     "output_type": "stream",
     "text": [
      "env: CUBLAS_WORKSPACE_CONFIG=:4096:8\n"
     ]
    }
   ],
   "source": [
    "%env CUBLAS_WORKSPACE_CONFIG=:4096:8"
   ]
  },
  {
   "cell_type": "code",
   "execution_count": 2,
   "metadata": {
    "id": "5InbErDf38LF"
   },
   "outputs": [],
   "source": [
    "import torch\n",
    "import torch.nn as nn\n",
    "import torch.optim as optim\n",
    "from torch.utils.data import Dataset, random_split, DataLoader\n",
    "from torchvision import models, transforms\n",
    "from PIL import Image\n",
    "import numpy as np\n",
    "from tqdm import tqdm\n",
    "import pandas as pd\n",
    "import os\n",
    "from sklearn.model_selection import train_test_split\n",
    "from torch.optim.lr_scheduler import ReduceLROnPlateau\n",
    "from torchinfo import summary\n",
    "import matplotlib.pyplot as plt\n",
    "import seaborn as sns\n",
    "from sklearn.metrics import confusion_matrix, ConfusionMatrixDisplay\n",
    "from sklearn.model_selection import train_test_split\n",
    "from sklearn.model_selection import KFold\n",
    "import glob\n",
    "from torch.utils.data import DataLoader\n",
    "import os\n",
    "import cv2\n",
    "import torch\n",
    "from torch.utils.data import Dataset, DataLoader,Subset\n",
    "from tqdm import tqdm\n",
    "import json\n",
    "import random\n",
    "import math\n",
    "import re\n",
    "from sklearn.metrics import accuracy_score, precision_score, recall_score, f1_score, roc_auc_score,confusion_matrix\n",
    "import time\n",
    "import matplotlib.pyplot as plt\n",
    "from sklearn.metrics import roc_auc_score, roc_curve, auc"
   ]
  },
  {
   "cell_type": "code",
   "execution_count": 3,
   "metadata": {
    "id": "bKJQJzRDP4yr"
   },
   "outputs": [],
   "source": [
    "def set_seed(seed: int):\n",
    "    \"\"\"Seed everything for reproducibility.\"\"\"\n",
    "    random.seed(seed)\n",
    "    np.random.seed(seed)\n",
    "    torch.manual_seed(seed)\n",
    "    torch.cuda.manual_seed_all(seed)\n",
    "    # enforce deterministic algorithms (may slow things down)\n",
    "    torch.backends.cudnn.deterministic = True\n",
    "    torch.backends.cudnn.benchmark = False\n",
    "    # torch 2.x: fully deterministic\n",
    "    if hasattr(torch, \"use_deterministic_algorithms\"):\n",
    "        torch.use_deterministic_algorithms(True)\n",
    "# os.environ[\"CUBLAS_WORKSPACE_CONFIG\"] = \":4096:8\"\n",
    "# choose your seed\n",
    "seed_list = [3,5,11,1344,2506]\n",
    "SEED = 3\n",
    "set_seed(SEED)"
   ]
  },
  {
   "cell_type": "code",
   "execution_count": 4,
   "metadata": {
    "colab": {
     "base_uri": "https://localhost:8080/"
    },
    "executionInfo": {
     "elapsed": 12,
     "status": "ok",
     "timestamp": 1753166192918,
     "user": {
      "displayName": "Anwesh Nayak",
      "userId": "10812060260948452341"
     },
     "user_tz": -330
    },
    "id": "dQqv_b4U3_vp",
    "outputId": "77f35a17-2ff7-49f5-b98a-e42e478dc49e"
   },
   "outputs": [
    {
     "data": {
      "text/plain": [
       "device(type='cuda')"
      ]
     },
     "execution_count": 4,
     "metadata": {},
     "output_type": "execute_result"
    }
   ],
   "source": [
    "device = torch.device(\"cuda\" if torch.cuda.is_available() else \"cpu\")\n",
    "device"
   ]
  },
  {
   "cell_type": "markdown",
   "metadata": {},
   "source": [
    "# Load Data"
   ]
  },
  {
   "cell_type": "code",
   "execution_count": 5,
   "metadata": {},
   "outputs": [
    {
     "data": {
      "text/html": [
       "<div>\n",
       "<style scoped>\n",
       "    .dataframe tbody tr th:only-of-type {\n",
       "        vertical-align: middle;\n",
       "    }\n",
       "\n",
       "    .dataframe tbody tr th {\n",
       "        vertical-align: top;\n",
       "    }\n",
       "\n",
       "    .dataframe thead th {\n",
       "        text-align: right;\n",
       "    }\n",
       "</style>\n",
       "<table border=\"1\" class=\"dataframe\">\n",
       "  <thead>\n",
       "    <tr style=\"text-align: right;\">\n",
       "      <th></th>\n",
       "      <th>image_path</th>\n",
       "      <th>label</th>\n",
       "    </tr>\n",
       "  </thead>\n",
       "  <tbody>\n",
       "    <tr>\n",
       "      <th>0</th>\n",
       "      <td>C:\\Users\\Anwesh\\Desktop\\Anwesh\\Oralpathology D...</td>\n",
       "      <td>0</td>\n",
       "    </tr>\n",
       "    <tr>\n",
       "      <th>1</th>\n",
       "      <td>C:\\Users\\Anwesh\\Desktop\\Anwesh\\Oralpathology D...</td>\n",
       "      <td>0</td>\n",
       "    </tr>\n",
       "    <tr>\n",
       "      <th>2</th>\n",
       "      <td>C:\\Users\\Anwesh\\Desktop\\Anwesh\\Oralpathology D...</td>\n",
       "      <td>0</td>\n",
       "    </tr>\n",
       "    <tr>\n",
       "      <th>3</th>\n",
       "      <td>C:\\Users\\Anwesh\\Desktop\\Anwesh\\Oralpathology D...</td>\n",
       "      <td>0</td>\n",
       "    </tr>\n",
       "    <tr>\n",
       "      <th>4</th>\n",
       "      <td>C:\\Users\\Anwesh\\Desktop\\Anwesh\\Oralpathology D...</td>\n",
       "      <td>1</td>\n",
       "    </tr>\n",
       "    <tr>\n",
       "      <th>...</th>\n",
       "      <td>...</td>\n",
       "      <td>...</td>\n",
       "    </tr>\n",
       "    <tr>\n",
       "      <th>1724</th>\n",
       "      <td>C:\\Users\\Anwesh\\Desktop\\Anwesh\\Oralpathology D...</td>\n",
       "      <td>0</td>\n",
       "    </tr>\n",
       "    <tr>\n",
       "      <th>1725</th>\n",
       "      <td>C:\\Users\\Anwesh\\Desktop\\Anwesh\\Oralpathology D...</td>\n",
       "      <td>0</td>\n",
       "    </tr>\n",
       "    <tr>\n",
       "      <th>1726</th>\n",
       "      <td>C:\\Users\\Anwesh\\Desktop\\Anwesh\\Oralpathology D...</td>\n",
       "      <td>1</td>\n",
       "    </tr>\n",
       "    <tr>\n",
       "      <th>1727</th>\n",
       "      <td>C:\\Users\\Anwesh\\Desktop\\Anwesh\\Oralpathology D...</td>\n",
       "      <td>1</td>\n",
       "    </tr>\n",
       "    <tr>\n",
       "      <th>1728</th>\n",
       "      <td>C:\\Users\\Anwesh\\Desktop\\Anwesh\\Oralpathology D...</td>\n",
       "      <td>1</td>\n",
       "    </tr>\n",
       "  </tbody>\n",
       "</table>\n",
       "<p>1729 rows × 2 columns</p>\n",
       "</div>"
      ],
      "text/plain": [
       "                                             image_path  label\n",
       "0     C:\\Users\\Anwesh\\Desktop\\Anwesh\\Oralpathology D...      0\n",
       "1     C:\\Users\\Anwesh\\Desktop\\Anwesh\\Oralpathology D...      0\n",
       "2     C:\\Users\\Anwesh\\Desktop\\Anwesh\\Oralpathology D...      0\n",
       "3     C:\\Users\\Anwesh\\Desktop\\Anwesh\\Oralpathology D...      0\n",
       "4     C:\\Users\\Anwesh\\Desktop\\Anwesh\\Oralpathology D...      1\n",
       "...                                                 ...    ...\n",
       "1724  C:\\Users\\Anwesh\\Desktop\\Anwesh\\Oralpathology D...      0\n",
       "1725  C:\\Users\\Anwesh\\Desktop\\Anwesh\\Oralpathology D...      0\n",
       "1726  C:\\Users\\Anwesh\\Desktop\\Anwesh\\Oralpathology D...      1\n",
       "1727  C:\\Users\\Anwesh\\Desktop\\Anwesh\\Oralpathology D...      1\n",
       "1728  C:\\Users\\Anwesh\\Desktop\\Anwesh\\Oralpathology D...      1\n",
       "\n",
       "[1729 rows x 2 columns]"
      ]
     },
     "execution_count": 5,
     "metadata": {},
     "output_type": "execute_result"
    }
   ],
   "source": [
    "train_df = pd.read_csv('train_df_encoded1.csv')\n",
    "train_df"
   ]
  },
  {
   "cell_type": "code",
   "execution_count": 6,
   "metadata": {
    "colab": {
     "base_uri": "https://localhost:8080/"
    },
    "executionInfo": {
     "elapsed": 3,
     "status": "ok",
     "timestamp": 1753166210186,
     "user": {
      "displayName": "Anwesh Nayak",
      "userId": "10812060260948452341"
     },
     "user_tz": -330
    },
    "id": "4AOFu8iMjVTn",
    "outputId": "c04efa26-3c39-417b-8651-aa29f176ac8b"
   },
   "outputs": [
    {
     "name": "stdout",
     "output_type": "stream",
     "text": [
      "Total abnormal images: 226\n",
      "Total normal images: 1503\n",
      "Total samples: 1729\n",
      "tensor([0.1307, 0.8693], device='cuda:0')\n",
      "Weight Ratio: tensor(6.6504, device='cuda:0')\n"
     ]
    }
   ],
   "source": [
    "total_abnormal_count = (train_df['label'] == 1).sum() \n",
    "total_normal_count = (train_df['label'] == 0).sum()\n",
    "total_samples = len(train_df)\n",
    "\n",
    "# Print\n",
    "print(\"Total abnormal images:\", total_abnormal_count)\n",
    "print(\"Total normal images:\", total_normal_count)\n",
    "print(\"Total samples:\", total_samples)\n",
    "# Inverse frequency\n",
    "weight_normal = 1 / total_normal_count\n",
    "weight_abnormal = 1 / total_abnormal_count\n",
    "\n",
    "# Normalize\n",
    "total_inv = weight_normal + weight_abnormal\n",
    "weight_normal /= total_inv\n",
    "weight_abnormal /= total_inv\n",
    "\n",
    "# PyTorch tensor\n",
    "class_weights = torch.tensor([weight_normal, weight_abnormal], dtype=torch.float32).to(device)\n",
    "print(class_weights)\n",
    "print('Weight Ratio:',class_weights[1]/class_weights[0])"
   ]
  },
  {
   "cell_type": "code",
   "execution_count": 7,
   "metadata": {
    "id": "NxA_lSAFTJIx"
   },
   "outputs": [],
   "source": [
    "transform = transforms.Compose([\n",
    "    transforms.Resize((224, 224)),  # Resize to fit most CNNs\n",
    "    transforms.ToTensor(),          # Convert to tensor\n",
    "    transforms.Normalize(mean=[0.485, 0.456, 0.406],  # ImageNet mean/std\n",
    "                         std=[0.229, 0.224, 0.225])\n",
    "])\n",
    "\n",
    "class ImageDataset(Dataset):\n",
    "    def __init__(self, df, transform=None):\n",
    "        self.df = df.reset_index(drop=True)\n",
    "        self.transform = transform\n",
    "\n",
    "    def __len__(self):\n",
    "        return len(self.df)\n",
    "\n",
    "    def __getitem__(self, idx):\n",
    "        img_path = self.df.loc[idx, 'image_path']\n",
    "        label = self.df.loc[idx, 'label']\n",
    "\n",
    "        image = Image.open(img_path).convert(\"RGB\")\n",
    "        if self.transform:\n",
    "            image = self.transform(image)\n",
    "\n",
    "        return image, torch.tensor(label, dtype=torch.long)\n",
    "\n",
    "\n",
    "train_dataset = ImageDataset(train_df, transform=transform)"
   ]
  },
  {
   "cell_type": "markdown",
   "metadata": {
    "id": "BHLmwM8PYNdq"
   },
   "source": [
    "# Model"
   ]
  },
  {
   "cell_type": "code",
   "execution_count": 8,
   "metadata": {
    "id": "1IYzb9SdJH8P"
   },
   "outputs": [],
   "source": [
    "# --- Training for one epoch -----------------------------------\n",
    "def train_epoch(model, loader, optimizer,criterion, device):\n",
    "    \n",
    "    model.train()\n",
    "    total_loss, total_correct, total_samples = 0.0, 0, 0\n",
    "    \n",
    "    step_times = []\n",
    "    epoch_start = time.time()\n",
    "    \n",
    "    for images, labels in tqdm(loader, desc='Train', leave=False):\n",
    "        step_start = time.time()\n",
    "        images, labels = images.to(device), labels.to(device).long()\n",
    "\n",
    "        optimizer.zero_grad()\n",
    "        outputs = model(images).float()                  # [batch, 2] raw logits\n",
    "        loss = criterion(outputs, labels)        # CrossEntropyLoss\n",
    "        loss.backward()\n",
    "        optimizer.step()\n",
    "\n",
    "        total_loss += loss.item() * labels.size(0)\n",
    "        preds = outputs.argmax(dim=1)\n",
    "        total_correct += (preds == labels).sum().item()\n",
    "        total_samples += labels.size(0)\n",
    "\n",
    "        step_end = time.time()\n",
    "        step_times.append(step_end - step_start)\n",
    "        \n",
    "    avg_loss = total_loss / total_samples\n",
    "    avg_acc  = total_correct / total_samples\n",
    "\n",
    "    epoch_end = time.time()\n",
    "    epoch_time = epoch_end - epoch_start\n",
    "    \n",
    "    return avg_loss, avg_acc, epoch_time, step_times\n",
    "\n",
    "# --- Validation (no threshold sweep) --------------------------\n",
    "def validate_epoch(model, loader,criterion, device):\n",
    "    model.eval()\n",
    "    total_loss, total_correct, total_samples = 0.0, 0, 0\n",
    "\n",
    "    with torch.no_grad():\n",
    "        for images, labels in tqdm(loader, desc='Val', leave=False):\n",
    "            images, labels = images.to(device), labels.to(device).long()\n",
    "            outputs = model(images).float()\n",
    "            loss = criterion(outputs, labels)\n",
    "\n",
    "            total_loss += loss.item() * labels.size(0)\n",
    "            preds = outputs.argmax(dim=1)\n",
    "            total_correct += (preds == labels).sum().item()\n",
    "            total_samples += labels.size(0)\n",
    "\n",
    "    avg_loss = total_loss / total_samples\n",
    "    avg_acc  = total_correct / total_samples\n",
    "    return avg_loss, avg_acc\n",
    "\n",
    "\n",
    "def plot_kfold_metrics(metrics_path, model_name=None, save_dir=None, dpi=500):\n",
    "    # --- Load JSON ---\n",
    "    with open(metrics_path, \"r\") as f:\n",
    "        metrics_data = json.load(f)\n",
    "\n",
    "    per_fold_data = metrics_data[\"per_fold\"]\n",
    "    num_folds = len(per_fold_data)\n",
    "\n",
    "    # --- Inference ---\n",
    "    if model_name is None:\n",
    "        model_name = os.path.splitext(os.path.basename(metrics_path))[0].replace(\"_training_metrics_all_folds\", \"\")\n",
    "\n",
    "    if save_dir is None:\n",
    "        save_dir = os.path.dirname(metrics_path)\n",
    "\n",
    "    os.makedirs(save_dir, exist_ok=True)\n",
    "\n",
    "    # --- Plot Each Fold ---\n",
    "    for fold_idx, fold_metrics in enumerate(per_fold_data, 1):\n",
    "        train_loss = fold_metrics[\"train_loss\"]\n",
    "        val_loss = fold_metrics[\"val_loss\"]\n",
    "        train_acc = fold_metrics[\"train_acc\"]\n",
    "        val_acc = fold_metrics[\"val_acc\"]\n",
    "        epochs = range(1, len(train_loss) + 1)\n",
    "\n",
    "        fig, ax1 = plt.subplots(figsize=(10, 6))\n",
    "\n",
    "        # Loss\n",
    "        l1 = ax1.plot(epochs, train_loss, label='Train Loss', marker='o', color='tab:red')\n",
    "        l2 = ax1.plot(epochs, val_loss, label='Validation Loss', marker='o', linestyle='--', color='tab:orange')\n",
    "        ax1.set_xlabel('Epochs')\n",
    "        ax1.set_ylabel('Loss', color='tab:red')\n",
    "        ax1.tick_params(axis='y', labelcolor='tab:red')\n",
    "\n",
    "        # Accuracy\n",
    "        ax2 = ax1.twinx()\n",
    "        l3 = ax2.plot(epochs, train_acc, label='Train Accuracy', marker='o', color='tab:blue')\n",
    "        l4 = ax2.plot(epochs, val_acc, label='Validation Accuracy', marker='o', linestyle='--', color='tab:cyan')\n",
    "        ax2.set_ylabel('Accuracy', color='tab:blue')\n",
    "        ax2.tick_params(axis='y', labelcolor='tab:blue')\n",
    "\n",
    "        # Combine legends\n",
    "        lines = l1 + l2 + l3 + l4\n",
    "        labels = [line.get_label() for line in lines]\n",
    "        fig.legend(\n",
    "            handles=lines,\n",
    "            labels=labels,\n",
    "            loc='upper center',\n",
    "            bbox_to_anchor=(0.5, 1.15),\n",
    "            ncol=2,\n",
    "            fontsize='medium',\n",
    "            frameon=True\n",
    "        )\n",
    "\n",
    "        # Title and layout\n",
    "        plt.title(f'{model_name} - Fold {fold_idx}: Loss and Accuracy over Epochs')\n",
    "        plt.subplots_adjust(top=0.82, bottom=0.1)\n",
    "        plt.grid(True)\n",
    "        plt.tight_layout()\n",
    "        \n",
    "        # Save\n",
    "        save_path = os.path.join(save_dir, f\"{model_name}_fold{fold_idx}_metrics.png\")\n",
    "        plt.savefig(save_path, dpi=dpi, bbox_inches='tight')\n",
    "        plt.close()\n",
    "\n",
    "        print(f\"✅ Saved plot: {save_path}\")\n"
   ]
  },
  {
   "cell_type": "code",
   "execution_count": 9,
   "metadata": {},
   "outputs": [],
   "source": [
    "def get_model_by_name(name: str, num_classes=2, device='cuda'):\n",
    "    base_model = models.resnet18\n",
    "    # --- Pretrained or not ---\n",
    "    if \"scratch\" in name:\n",
    "        model = base_model(weights=None, zero_init_residual=True)\n",
    "    else:\n",
    "        model = base_model(pretrained=True)\n",
    "    # --- Modifications ---\n",
    "    in_features = model.fc.in_features\n",
    "    dropout_match = re.search(r'dp\\(([\\d.]+)\\)', name)\n",
    "    dropout_p = float(dropout_match.group(1)) if dropout_match else None\n",
    "    \n",
    "    if \"mod2\" in name:\n",
    "        # Mod 2: Two-layer MLP with dropout\n",
    "        model.fc = nn.Sequential(\n",
    "            nn.Linear(in_features, 256),\n",
    "            nn.ReLU(inplace=True),\n",
    "            nn.Dropout(p=dropout_p if dropout_p is not None else 0.5),\n",
    "            nn.Linear(256, num_classes)\n",
    "        )\n",
    "        for param in model.parameters():\n",
    "            param.requires_grad = False\n",
    "        for param in model.layer4[:].parameters():\n",
    "            param.requires_grad = True\n",
    "        for param in model.fc.parameters():\n",
    "            param.requires_grad = True\n",
    "            \n",
    "    elif \"mod1\" in name:\n",
    "        # Mod 1: Dropout + final layer\n",
    "        model.fc = nn.Sequential(\n",
    "            nn.Linear(in_features, in_features),\n",
    "            nn.ReLU(inplace=True),\n",
    "            nn.Dropout(p=dropout_p if dropout_p is not None else 0.5),\n",
    "            nn.Linear(in_features, num_classes)\n",
    "                                )\n",
    "        for param in model.parameters():\n",
    "            param.requires_grad = False\n",
    "        for param in model.layer4[:].parameters():\n",
    "            param.requires_grad = True\n",
    "        for param in model.fc.parameters():\n",
    "            param.requires_grad = True\n",
    " \n",
    "    else:\n",
    "        # Default\n",
    "        model.fc = nn.Linear(in_features, num_classes)\n",
    "        for param in model.parameters():\n",
    "            param.requires_grad = False\n",
    "        for param in model.layer4[:].parameters():\n",
    "            param.requires_grad = True\n",
    "        for param in model.fc.parameters():\n",
    "            param.requires_grad = True\n",
    "\n",
    "    return model.to(device)"
   ]
  },
  {
   "cell_type": "markdown",
   "metadata": {},
   "source": [
    "## Model Config"
   ]
  },
  {
   "cell_type": "code",
   "execution_count": 10,
   "metadata": {},
   "outputs": [],
   "source": [
    "NUM_EPOCHS = 100\n",
    "BATCH_SIZE = 32\n",
    "NUM_FOLDS     = 5\n",
    "BATCH_SIZE    = 32\n",
    "EARLY_STOPING_PATIENCE = 20\n",
    "INITIAL_LR = 0.001\n",
    "REDUCE_LR_PATIENCE = 10\n",
    "REDUCE_LR_FACTOR = 0.5\n",
    "CLASS_WEIGHTS = class_weights"
   ]
  },
  {
   "cell_type": "code",
   "execution_count": 11,
   "metadata": {},
   "outputs": [],
   "source": [
    "def run_kfold_training(\n",
    "    model_name_prefix,\n",
    "    train_dataset = train_dataset,\n",
    "    get_model_fn = get_model_by_name,\n",
    "    train_epoch_fn = train_epoch,\n",
    "    validate_epoch_fn = validate_epoch,\n",
    "    plot_metrics_fn = plot_kfold_metrics,\n",
    "    class_weights = CLASS_WEIGHTS,\n",
    "    device='cuda',\n",
    "    num_folds=NUM_FOLDS,\n",
    "    batch_size=BATCH_SIZE,\n",
    "    num_epochs=NUM_EPOCHS,\n",
    "    patience=EARLY_STOPING_PATIENCE,\n",
    "    lr=INITIAL_LR,\n",
    "    weight_decay=1e-5,\n",
    "    seed=SEED,\n",
    "    dir_path = os.getcwd(),\n",
    "    metrics_filename=None\n",
    "):\n",
    "\n",
    "    model_dir = os.path.join(dir_path, model_name_prefix)\n",
    "    os.makedirs(model_dir, exist_ok=True)\n",
    "\n",
    "    kf = KFold(n_splits=num_folds, shuffle=True, random_state=seed)\n",
    "    all_fold_metrics = []\n",
    "    print('Training',model_name_prefix) \n",
    "    for fold, (train_idx, val_idx) in enumerate(kf.split(train_dataset), 1):\n",
    "        print(f\"\\n=== Fold {fold}/{num_folds} ===\")\n",
    "\n",
    "        # Prepare loaders\n",
    "        train_loader = DataLoader(Subset(train_dataset, train_idx), batch_size=batch_size, shuffle=True)\n",
    "        val_loader   = DataLoader(Subset(train_dataset, val_idx), batch_size=batch_size, shuffle=False)\n",
    "\n",
    "        # Model and optimizer\n",
    "        model = get_model_fn(model_name_prefix)\n",
    "        optimizer = optim.Adam(filter(lambda p: p.requires_grad, model.parameters()), lr=lr, weight_decay=weight_decay)\n",
    "        scheduler = optim.lr_scheduler.ReduceLROnPlateau(optimizer, mode='min', factor=0.1, patience=REDUCE_LR_PATIENCE)\n",
    "        if 'weighted' in model_name_prefix:\n",
    "            criterion = nn.CrossEntropyLoss(weight=class_weights.to(torch.float32))\n",
    "            print('Using Weighted Loss')\n",
    "        else:\n",
    "            criterion = nn.CrossEntropyLoss()\n",
    "        # History for this fold\n",
    "        fold_hist = {\n",
    "            \"train_loss\": [], \"train_acc\": [],\n",
    "            \"val_loss\": [],   \"val_acc\": [],\n",
    "            \"epoch_time_s\": [], \"avg_step_time_s\": [],\n",
    "            \"lr_history\": []\n",
    "        }\n",
    "\n",
    "        best_loss = float('inf')\n",
    "        epochs_no_improve = 0\n",
    "\n",
    "        model_basename = f\"{model_name_prefix}_fold{fold}\"\n",
    "        model_path = os.path.join(model_dir, f\"{model_basename}.pth\")\n",
    "        best_model_path = os.path.join(model_dir, f\"{model_basename}_best.pth\")\n",
    "\n",
    "        for epoch in range(1, num_epochs + 1):\n",
    "            train_loss, train_acc, epoch_time, step_times = train_epoch_fn(model, train_loader, optimizer, criterion, device)\n",
    "            val_loss, val_acc = validate_epoch_fn(model, val_loader, criterion, device)\n",
    "            scheduler.step(val_loss)\n",
    "\n",
    "            # Record\n",
    "            fold_hist[\"train_loss\"].append(train_loss)\n",
    "            fold_hist[\"train_acc\"].append(train_acc)\n",
    "            fold_hist[\"val_loss\"].append(val_loss)\n",
    "            fold_hist[\"val_acc\"].append(val_acc)\n",
    "            fold_hist[\"epoch_time_s\"].append(epoch_time)\n",
    "            fold_hist[\"avg_step_time_s\"].append(sum(step_times) / len(step_times))\n",
    "            fold_hist[\"lr_history\"].append(optimizer.param_groups[0]['lr'])\n",
    "\n",
    "            print(f\"Epoch {epoch:02d}: Train Loss={train_loss:.4f}, Acc={train_acc*100:.2f}% | \"\n",
    "                  f\"Val Loss={val_loss:.4f}, Acc={val_acc*100:.2f}% | LR={fold_hist['lr_history'][-1]:.6f}\")\n",
    "\n",
    "            if val_loss < best_loss:\n",
    "                best_loss = val_loss\n",
    "                torch.save(model.state_dict(), best_model_path)\n",
    "                epochs_no_improve = 0\n",
    "                print(\"  → New best model saved\")\n",
    "            else:\n",
    "                epochs_no_improve += 1\n",
    "                if epochs_no_improve >= patience:\n",
    "                    print(f\"Early stopping at epoch {epoch}\")\n",
    "                    break\n",
    "\n",
    "        # Save final model for fold\n",
    "        torch.save(model.state_dict(), model_path)\n",
    "        all_fold_metrics.append(fold_hist)\n",
    "\n",
    "    # Aggregate validation loss\n",
    "    def agg(key):\n",
    "        arr = [np.array(f[key]) for f in all_fold_metrics]\n",
    "        min_len = min(len(a) for a in arr)\n",
    "        stacked = np.stack([a[:min_len] for a in arr], axis=0)\n",
    "        return stacked.mean(axis=0), stacked.std(axis=0)\n",
    "\n",
    "    mean_val_loss, std_val_loss = agg(\"val_loss\")\n",
    "\n",
    "    \n",
    "    # Print summary — Last 5 epochs\n",
    "    print(\"\\n=== Cross‐Val Summary (last 5 epochs) ===\")\n",
    "    num_epochs = len(mean_val_loss)\n",
    "    start_epoch = max(0, num_epochs - 5)\n",
    "    for epoch in range(start_epoch, num_epochs):\n",
    "        print(f\"Epoch {epoch + 1:02d}: Val Loss = {mean_val_loss[epoch]:.4f} ± {std_val_loss[epoch]:.4f}\")\n",
    "\n",
    "    # Save to file\n",
    "    if metrics_filename is None:\n",
    "        metrics_filename = f\"{model_name_prefix}_training_metrics_all_folds.json\"\n",
    "    metrics_path = os.path.join(model_dir, metrics_filename)\n",
    "\n",
    "    with open(metrics_path, \"w\") as f:\n",
    "        json.dump({\n",
    "            \"per_fold\": all_fold_metrics,\n",
    "            \"val_loss_mean\": mean_val_loss.tolist(),\n",
    "            \"val_loss_std\": std_val_loss.tolist()\n",
    "        }, f, indent=4)\n",
    "    \n",
    "    print(f\"\\nK-fold cross-validation complete. Metrics written to {metrics_path}.\")\n",
    "    plot_kfold_metrics(metrics_path=metrics_path)\n",
    "    model_summary_str = str(summary(model, input_size=(32, 3, 224, 224)))\n",
    "    summary_path = os.path.join(model_dir, f\"{model_name_prefix}_summary.txt\")\n",
    "    with open(summary_path, \"w\", encoding=\"utf-8\") as f:\n",
    "        f.write(model_summary_str)"
   ]
  },
  {
   "cell_type": "code",
   "execution_count": 12,
   "metadata": {},
   "outputs": [],
   "source": [
    "model_list = [\n",
    "    \"ResNet18_scratch\",\n",
    "    \"ResNet18_weighted_scratch\",\n",
    "    # \"ResNet18\",\n",
    "    # \"ResNet18_weighted\",\n",
    "    # \"ResNet18_mod1\",\n",
    "    # \"ResNet18_mod1_weighted_test\",\n",
    "    # \"ResNet18_mod2\",\n",
    "    # \"ResNet18_mod2_weighted\",\n",
    "    # \"ResNet18_mod1_weighted_dp(0.7)\",\n",
    "    # \"ResNet18_mod1_weighted_dp(0.2)\"\n",
    "]"
   ]
  },
  {
   "cell_type": "code",
   "execution_count": 13,
   "metadata": {},
   "outputs": [
    {
     "name": "stdout",
     "output_type": "stream",
     "text": [
      "Training ResNet18_scratch\n",
      "\n",
      "=== Fold 1/5 ===\n"
     ]
    },
    {
     "name": "stderr",
     "output_type": "stream",
     "text": [
      "                                                                                                                       "
     ]
    },
    {
     "name": "stdout",
     "output_type": "stream",
     "text": [
      "Epoch 01: Train Loss=0.3674, Acc=85.25% | Val Loss=0.3227, Acc=86.13% | LR=0.001000\n",
      "  → New best model saved\n"
     ]
    },
    {
     "name": "stderr",
     "output_type": "stream",
     "text": [
      "                                                                                                                       "
     ]
    },
    {
     "name": "stdout",
     "output_type": "stream",
     "text": [
      "Epoch 02: Train Loss=0.3179, Acc=88.00% | Val Loss=0.3087, Acc=86.99% | LR=0.001000\n",
      "  → New best model saved\n"
     ]
    },
    {
     "name": "stderr",
     "output_type": "stream",
     "text": [
      "                                                                                                                       "
     ]
    },
    {
     "name": "stdout",
     "output_type": "stream",
     "text": [
      "Epoch 03: Train Loss=0.3132, Acc=88.00% | Val Loss=0.3273, Acc=86.42% | LR=0.001000\n"
     ]
    },
    {
     "name": "stderr",
     "output_type": "stream",
     "text": [
      "                                                                                                                       "
     ]
    },
    {
     "name": "stdout",
     "output_type": "stream",
     "text": [
      "Epoch 04: Train Loss=0.3073, Acc=88.14% | Val Loss=0.3027, Acc=87.28% | LR=0.001000\n",
      "  → New best model saved\n"
     ]
    },
    {
     "name": "stderr",
     "output_type": "stream",
     "text": [
      "                                                                                                                       "
     ]
    },
    {
     "name": "stdout",
     "output_type": "stream",
     "text": [
      "Epoch 05: Train Loss=0.2955, Acc=87.92% | Val Loss=0.3076, Acc=87.86% | LR=0.001000\n"
     ]
    },
    {
     "name": "stderr",
     "output_type": "stream",
     "text": [
      "                                                                                                                       "
     ]
    },
    {
     "name": "stdout",
     "output_type": "stream",
     "text": [
      "Epoch 06: Train Loss=0.2872, Acc=88.72% | Val Loss=0.3045, Acc=87.28% | LR=0.001000\n"
     ]
    },
    {
     "name": "stderr",
     "output_type": "stream",
     "text": [
      "                                                                                                                       "
     ]
    },
    {
     "name": "stdout",
     "output_type": "stream",
     "text": [
      "Epoch 07: Train Loss=0.2735, Acc=88.36% | Val Loss=0.3081, Acc=87.57% | LR=0.001000\n"
     ]
    },
    {
     "name": "stderr",
     "output_type": "stream",
     "text": [
      "                                                                                                                       "
     ]
    },
    {
     "name": "stdout",
     "output_type": "stream",
     "text": [
      "Epoch 08: Train Loss=0.2652, Acc=88.29% | Val Loss=0.3609, Acc=87.28% | LR=0.001000\n"
     ]
    },
    {
     "name": "stderr",
     "output_type": "stream",
     "text": [
      "                                                                                                                       "
     ]
    },
    {
     "name": "stdout",
     "output_type": "stream",
     "text": [
      "Epoch 09: Train Loss=0.2463, Acc=89.80% | Val Loss=0.3377, Acc=86.42% | LR=0.001000\n"
     ]
    },
    {
     "name": "stderr",
     "output_type": "stream",
     "text": [
      "                                                                                                                       "
     ]
    },
    {
     "name": "stdout",
     "output_type": "stream",
     "text": [
      "Epoch 10: Train Loss=0.2343, Acc=89.37% | Val Loss=0.3935, Acc=85.55% | LR=0.001000\n"
     ]
    },
    {
     "name": "stderr",
     "output_type": "stream",
     "text": [
      "                                                                                                                       "
     ]
    },
    {
     "name": "stdout",
     "output_type": "stream",
     "text": [
      "Epoch 11: Train Loss=0.2186, Acc=90.74% | Val Loss=0.4216, Acc=80.06% | LR=0.001000\n"
     ]
    },
    {
     "name": "stderr",
     "output_type": "stream",
     "text": [
      "                                                                                                                       "
     ]
    },
    {
     "name": "stdout",
     "output_type": "stream",
     "text": [
      "Epoch 12: Train Loss=0.1941, Acc=91.40% | Val Loss=0.4192, Acc=85.55% | LR=0.001000\n"
     ]
    },
    {
     "name": "stderr",
     "output_type": "stream",
     "text": [
      "                                                                                                                       "
     ]
    },
    {
     "name": "stdout",
     "output_type": "stream",
     "text": [
      "Epoch 13: Train Loss=0.1712, Acc=92.77% | Val Loss=0.5667, Acc=85.84% | LR=0.001000\n"
     ]
    },
    {
     "name": "stderr",
     "output_type": "stream",
     "text": [
      "                                                                                                                       "
     ]
    },
    {
     "name": "stdout",
     "output_type": "stream",
     "text": [
      "Epoch 14: Train Loss=0.1530, Acc=93.78% | Val Loss=0.5996, Acc=85.84% | LR=0.001000\n"
     ]
    },
    {
     "name": "stderr",
     "output_type": "stream",
     "text": [
      "                                                                                                                       "
     ]
    },
    {
     "name": "stdout",
     "output_type": "stream",
     "text": [
      "Epoch 15: Train Loss=0.1319, Acc=94.72% | Val Loss=0.4395, Acc=84.10% | LR=0.000100\n"
     ]
    },
    {
     "name": "stderr",
     "output_type": "stream",
     "text": [
      "                                                                                                                       "
     ]
    },
    {
     "name": "stdout",
     "output_type": "stream",
     "text": [
      "Epoch 16: Train Loss=0.0890, Acc=96.60% | Val Loss=0.4040, Acc=85.26% | LR=0.000100\n"
     ]
    },
    {
     "name": "stderr",
     "output_type": "stream",
     "text": [
      "                                                                                                                       "
     ]
    },
    {
     "name": "stdout",
     "output_type": "stream",
     "text": [
      "Epoch 17: Train Loss=0.0690, Acc=97.76% | Val Loss=0.4215, Acc=84.97% | LR=0.000100\n"
     ]
    },
    {
     "name": "stderr",
     "output_type": "stream",
     "text": [
      "                                                                                                                       "
     ]
    },
    {
     "name": "stdout",
     "output_type": "stream",
     "text": [
      "Epoch 18: Train Loss=0.0598, Acc=98.41% | Val Loss=0.4121, Acc=85.84% | LR=0.000100\n"
     ]
    },
    {
     "name": "stderr",
     "output_type": "stream",
     "text": [
      "                                                                                                                       "
     ]
    },
    {
     "name": "stdout",
     "output_type": "stream",
     "text": [
      "Epoch 19: Train Loss=0.0489, Acc=98.99% | Val Loss=0.4439, Acc=85.55% | LR=0.000100\n"
     ]
    },
    {
     "name": "stderr",
     "output_type": "stream",
     "text": [
      "                                                                                                                       "
     ]
    },
    {
     "name": "stdout",
     "output_type": "stream",
     "text": [
      "Epoch 20: Train Loss=0.0502, Acc=98.84% | Val Loss=0.4426, Acc=85.26% | LR=0.000100\n"
     ]
    },
    {
     "name": "stderr",
     "output_type": "stream",
     "text": [
      "                                                                                                                       "
     ]
    },
    {
     "name": "stdout",
     "output_type": "stream",
     "text": [
      "Epoch 21: Train Loss=0.0400, Acc=98.99% | Val Loss=0.4459, Acc=84.97% | LR=0.000100\n"
     ]
    },
    {
     "name": "stderr",
     "output_type": "stream",
     "text": [
      "                                                                                                                       "
     ]
    },
    {
     "name": "stdout",
     "output_type": "stream",
     "text": [
      "Epoch 22: Train Loss=0.0493, Acc=98.63% | Val Loss=0.4579, Acc=85.26% | LR=0.000100\n"
     ]
    },
    {
     "name": "stderr",
     "output_type": "stream",
     "text": [
      "                                                                                                                       "
     ]
    },
    {
     "name": "stdout",
     "output_type": "stream",
     "text": [
      "Epoch 23: Train Loss=0.0395, Acc=98.77% | Val Loss=0.4814, Acc=85.26% | LR=0.000100\n"
     ]
    },
    {
     "name": "stderr",
     "output_type": "stream",
     "text": [
      "                                                                                                                       "
     ]
    },
    {
     "name": "stdout",
     "output_type": "stream",
     "text": [
      "Epoch 24: Train Loss=0.0465, Acc=98.48% | Val Loss=0.4883, Acc=85.26% | LR=0.000100\n",
      "Early stopping at epoch 24\n",
      "\n",
      "=== Fold 2/5 ===\n"
     ]
    },
    {
     "name": "stderr",
     "output_type": "stream",
     "text": [
      "                                                                                                                       "
     ]
    },
    {
     "name": "stdout",
     "output_type": "stream",
     "text": [
      "Epoch 01: Train Loss=0.3907, Acc=84.02% | Val Loss=0.3012, Acc=88.73% | LR=0.001000\n",
      "  → New best model saved\n"
     ]
    },
    {
     "name": "stderr",
     "output_type": "stream",
     "text": [
      "                                                                                                                       "
     ]
    },
    {
     "name": "stdout",
     "output_type": "stream",
     "text": [
      "Epoch 02: Train Loss=0.3305, Acc=87.64% | Val Loss=0.2854, Acc=89.60% | LR=0.001000\n",
      "  → New best model saved\n"
     ]
    },
    {
     "name": "stderr",
     "output_type": "stream",
     "text": [
      "                                                                                                                       "
     ]
    },
    {
     "name": "stdout",
     "output_type": "stream",
     "text": [
      "Epoch 03: Train Loss=0.3190, Acc=88.00% | Val Loss=0.2877, Acc=89.02% | LR=0.001000\n"
     ]
    },
    {
     "name": "stderr",
     "output_type": "stream",
     "text": [
      "                                                                                                                       "
     ]
    },
    {
     "name": "stdout",
     "output_type": "stream",
     "text": [
      "Epoch 04: Train Loss=0.3290, Acc=86.77% | Val Loss=0.3019, Acc=87.28% | LR=0.001000\n"
     ]
    },
    {
     "name": "stderr",
     "output_type": "stream",
     "text": [
      "                                                                                                                       "
     ]
    },
    {
     "name": "stdout",
     "output_type": "stream",
     "text": [
      "Epoch 05: Train Loss=0.3204, Acc=87.20% | Val Loss=0.2799, Acc=89.60% | LR=0.001000\n",
      "  → New best model saved\n"
     ]
    },
    {
     "name": "stderr",
     "output_type": "stream",
     "text": [
      "                                                                                                                       "
     ]
    },
    {
     "name": "stdout",
     "output_type": "stream",
     "text": [
      "Epoch 06: Train Loss=0.3064, Acc=88.14% | Val Loss=0.2836, Acc=88.15% | LR=0.001000\n"
     ]
    },
    {
     "name": "stderr",
     "output_type": "stream",
     "text": [
      "                                                                                                                       "
     ]
    },
    {
     "name": "stdout",
     "output_type": "stream",
     "text": [
      "Epoch 07: Train Loss=0.2999, Acc=88.36% | Val Loss=0.2852, Acc=88.44% | LR=0.001000\n"
     ]
    },
    {
     "name": "stderr",
     "output_type": "stream",
     "text": [
      "                                                                                                                       "
     ]
    },
    {
     "name": "stdout",
     "output_type": "stream",
     "text": [
      "Epoch 08: Train Loss=0.3058, Acc=87.27% | Val Loss=0.3256, Acc=89.31% | LR=0.001000\n"
     ]
    },
    {
     "name": "stderr",
     "output_type": "stream",
     "text": [
      "                                                                                                                       "
     ]
    },
    {
     "name": "stdout",
     "output_type": "stream",
     "text": [
      "Epoch 09: Train Loss=0.2919, Acc=88.43% | Val Loss=0.2782, Acc=88.73% | LR=0.001000\n",
      "  → New best model saved\n"
     ]
    },
    {
     "name": "stderr",
     "output_type": "stream",
     "text": [
      "                                                                                                                       "
     ]
    },
    {
     "name": "stdout",
     "output_type": "stream",
     "text": [
      "Epoch 10: Train Loss=0.2728, Acc=89.80% | Val Loss=0.3814, Acc=80.35% | LR=0.001000\n"
     ]
    },
    {
     "name": "stderr",
     "output_type": "stream",
     "text": [
      "                                                                                                                       "
     ]
    },
    {
     "name": "stdout",
     "output_type": "stream",
     "text": [
      "Epoch 11: Train Loss=0.2764, Acc=88.65% | Val Loss=0.3127, Acc=85.26% | LR=0.001000\n"
     ]
    },
    {
     "name": "stderr",
     "output_type": "stream",
     "text": [
      "                                                                                                                       "
     ]
    },
    {
     "name": "stdout",
     "output_type": "stream",
     "text": [
      "Epoch 12: Train Loss=0.2477, Acc=89.59% | Val Loss=0.4059, Acc=89.31% | LR=0.001000\n"
     ]
    },
    {
     "name": "stderr",
     "output_type": "stream",
     "text": [
      "                                                                                                                       "
     ]
    },
    {
     "name": "stdout",
     "output_type": "stream",
     "text": [
      "Epoch 13: Train Loss=0.2352, Acc=89.95% | Val Loss=0.3235, Acc=84.39% | LR=0.001000\n"
     ]
    },
    {
     "name": "stderr",
     "output_type": "stream",
     "text": [
      "                                                                                                                       "
     ]
    },
    {
     "name": "stdout",
     "output_type": "stream",
     "text": [
      "Epoch 14: Train Loss=0.2132, Acc=91.32% | Val Loss=0.3189, Acc=88.44% | LR=0.001000\n"
     ]
    },
    {
     "name": "stderr",
     "output_type": "stream",
     "text": [
      "                                                                                                                       "
     ]
    },
    {
     "name": "stdout",
     "output_type": "stream",
     "text": [
      "Epoch 15: Train Loss=0.1943, Acc=91.47% | Val Loss=0.3311, Acc=87.57% | LR=0.001000\n"
     ]
    },
    {
     "name": "stderr",
     "output_type": "stream",
     "text": [
      "                                                                                                                       "
     ]
    },
    {
     "name": "stdout",
     "output_type": "stream",
     "text": [
      "Epoch 16: Train Loss=0.1557, Acc=93.71% | Val Loss=0.6417, Acc=76.59% | LR=0.001000\n"
     ]
    },
    {
     "name": "stderr",
     "output_type": "stream",
     "text": [
      "                                                                                                                       "
     ]
    },
    {
     "name": "stdout",
     "output_type": "stream",
     "text": [
      "Epoch 17: Train Loss=0.1663, Acc=94.00% | Val Loss=0.5751, Acc=89.31% | LR=0.001000\n"
     ]
    },
    {
     "name": "stderr",
     "output_type": "stream",
     "text": [
      "                                                                                                                       "
     ]
    },
    {
     "name": "stdout",
     "output_type": "stream",
     "text": [
      "Epoch 18: Train Loss=0.1241, Acc=94.87% | Val Loss=0.4823, Acc=89.02% | LR=0.001000\n"
     ]
    },
    {
     "name": "stderr",
     "output_type": "stream",
     "text": [
      "                                                                                                                       "
     ]
    },
    {
     "name": "stdout",
     "output_type": "stream",
     "text": [
      "Epoch 19: Train Loss=0.0894, Acc=96.96% | Val Loss=0.4337, Acc=81.21% | LR=0.001000\n"
     ]
    },
    {
     "name": "stderr",
     "output_type": "stream",
     "text": [
      "                                                                                                                       "
     ]
    },
    {
     "name": "stdout",
     "output_type": "stream",
     "text": [
      "Epoch 20: Train Loss=0.0928, Acc=96.24% | Val Loss=0.4725, Acc=83.53% | LR=0.000100\n"
     ]
    },
    {
     "name": "stderr",
     "output_type": "stream",
     "text": [
      "                                                                                                                       "
     ]
    },
    {
     "name": "stdout",
     "output_type": "stream",
     "text": [
      "Epoch 21: Train Loss=0.0687, Acc=96.96% | Val Loss=0.4115, Acc=87.86% | LR=0.000100\n"
     ]
    },
    {
     "name": "stderr",
     "output_type": "stream",
     "text": [
      "                                                                                                                       "
     ]
    },
    {
     "name": "stdout",
     "output_type": "stream",
     "text": [
      "Epoch 22: Train Loss=0.0376, Acc=99.28% | Val Loss=0.4043, Acc=87.28% | LR=0.000100\n"
     ]
    },
    {
     "name": "stderr",
     "output_type": "stream",
     "text": [
      "                                                                                                                       "
     ]
    },
    {
     "name": "stdout",
     "output_type": "stream",
     "text": [
      "Epoch 23: Train Loss=0.0321, Acc=99.28% | Val Loss=0.4143, Acc=87.28% | LR=0.000100\n"
     ]
    },
    {
     "name": "stderr",
     "output_type": "stream",
     "text": [
      "                                                                                                                       "
     ]
    },
    {
     "name": "stdout",
     "output_type": "stream",
     "text": [
      "Epoch 24: Train Loss=0.0341, Acc=99.13% | Val Loss=0.4179, Acc=88.15% | LR=0.000100\n"
     ]
    },
    {
     "name": "stderr",
     "output_type": "stream",
     "text": [
      "                                                                                                                       "
     ]
    },
    {
     "name": "stdout",
     "output_type": "stream",
     "text": [
      "Epoch 25: Train Loss=0.0344, Acc=99.13% | Val Loss=0.4284, Acc=87.57% | LR=0.000100\n"
     ]
    },
    {
     "name": "stderr",
     "output_type": "stream",
     "text": [
      "                                                                                                                       "
     ]
    },
    {
     "name": "stdout",
     "output_type": "stream",
     "text": [
      "Epoch 26: Train Loss=0.0293, Acc=99.13% | Val Loss=0.4355, Acc=86.13% | LR=0.000100\n"
     ]
    },
    {
     "name": "stderr",
     "output_type": "stream",
     "text": [
      "                                                                                                                       "
     ]
    },
    {
     "name": "stdout",
     "output_type": "stream",
     "text": [
      "Epoch 27: Train Loss=0.0350, Acc=98.92% | Val Loss=0.4369, Acc=85.84% | LR=0.000100\n"
     ]
    },
    {
     "name": "stderr",
     "output_type": "stream",
     "text": [
      "                                                                                                                       "
     ]
    },
    {
     "name": "stdout",
     "output_type": "stream",
     "text": [
      "Epoch 28: Train Loss=0.0347, Acc=98.84% | Val Loss=0.4601, Acc=88.44% | LR=0.000100\n"
     ]
    },
    {
     "name": "stderr",
     "output_type": "stream",
     "text": [
      "                                                                                                                       "
     ]
    },
    {
     "name": "stdout",
     "output_type": "stream",
     "text": [
      "Epoch 29: Train Loss=0.0307, Acc=99.06% | Val Loss=0.4603, Acc=87.86% | LR=0.000100\n",
      "Early stopping at epoch 29\n",
      "\n",
      "=== Fold 3/5 ===\n"
     ]
    },
    {
     "name": "stderr",
     "output_type": "stream",
     "text": [
      "                                                                                                                       "
     ]
    },
    {
     "name": "stdout",
     "output_type": "stream",
     "text": [
      "Epoch 01: Train Loss=0.3614, Acc=85.47% | Val Loss=0.3395, Acc=86.42% | LR=0.001000\n",
      "  → New best model saved\n"
     ]
    },
    {
     "name": "stderr",
     "output_type": "stream",
     "text": [
      "                                                                                                                       "
     ]
    },
    {
     "name": "stdout",
     "output_type": "stream",
     "text": [
      "Epoch 02: Train Loss=0.3112, Acc=87.92% | Val Loss=0.3293, Acc=87.86% | LR=0.001000\n",
      "  → New best model saved\n"
     ]
    },
    {
     "name": "stderr",
     "output_type": "stream",
     "text": [
      "                                                                                                                       "
     ]
    },
    {
     "name": "stdout",
     "output_type": "stream",
     "text": [
      "Epoch 03: Train Loss=0.3082, Acc=88.07% | Val Loss=0.3484, Acc=85.84% | LR=0.001000\n"
     ]
    },
    {
     "name": "stderr",
     "output_type": "stream",
     "text": [
      "                                                                                                                       "
     ]
    },
    {
     "name": "stdout",
     "output_type": "stream",
     "text": [
      "Epoch 04: Train Loss=0.3039, Acc=87.78% | Val Loss=0.3584, Acc=84.39% | LR=0.001000\n"
     ]
    },
    {
     "name": "stderr",
     "output_type": "stream",
     "text": [
      "                                                                                                                       "
     ]
    },
    {
     "name": "stdout",
     "output_type": "stream",
     "text": [
      "Epoch 05: Train Loss=0.2968, Acc=88.43% | Val Loss=0.3423, Acc=86.42% | LR=0.001000\n"
     ]
    },
    {
     "name": "stderr",
     "output_type": "stream",
     "text": [
      "                                                                                                                       "
     ]
    },
    {
     "name": "stdout",
     "output_type": "stream",
     "text": [
      "Epoch 06: Train Loss=0.2887, Acc=88.21% | Val Loss=0.3697, Acc=84.97% | LR=0.001000\n"
     ]
    },
    {
     "name": "stderr",
     "output_type": "stream",
     "text": [
      "                                                                                                                       "
     ]
    },
    {
     "name": "stdout",
     "output_type": "stream",
     "text": [
      "Epoch 07: Train Loss=0.2907, Acc=88.86% | Val Loss=0.3313, Acc=85.84% | LR=0.001000\n"
     ]
    },
    {
     "name": "stderr",
     "output_type": "stream",
     "text": [
      "                                                                                                                       "
     ]
    },
    {
     "name": "stdout",
     "output_type": "stream",
     "text": [
      "Epoch 08: Train Loss=0.2681, Acc=89.52% | Val Loss=0.3959, Acc=82.08% | LR=0.001000\n"
     ]
    },
    {
     "name": "stderr",
     "output_type": "stream",
     "text": [
      "                                                                                                                       "
     ]
    },
    {
     "name": "stdout",
     "output_type": "stream",
     "text": [
      "Epoch 09: Train Loss=0.2633, Acc=88.86% | Val Loss=0.3246, Acc=87.57% | LR=0.001000\n",
      "  → New best model saved\n"
     ]
    },
    {
     "name": "stderr",
     "output_type": "stream",
     "text": [
      "                                                                                                                       "
     ]
    },
    {
     "name": "stdout",
     "output_type": "stream",
     "text": [
      "Epoch 10: Train Loss=0.2561, Acc=89.37% | Val Loss=0.3243, Acc=86.71% | LR=0.001000\n",
      "  → New best model saved\n"
     ]
    },
    {
     "name": "stderr",
     "output_type": "stream",
     "text": [
      "                                                                                                                       "
     ]
    },
    {
     "name": "stdout",
     "output_type": "stream",
     "text": [
      "Epoch 11: Train Loss=0.2398, Acc=89.95% | Val Loss=0.3656, Acc=84.68% | LR=0.001000\n"
     ]
    },
    {
     "name": "stderr",
     "output_type": "stream",
     "text": [
      "                                                                                                                       "
     ]
    },
    {
     "name": "stdout",
     "output_type": "stream",
     "text": [
      "Epoch 12: Train Loss=0.2346, Acc=90.09% | Val Loss=0.3658, Acc=84.10% | LR=0.001000\n"
     ]
    },
    {
     "name": "stderr",
     "output_type": "stream",
     "text": [
      "                                                                                                                       "
     ]
    },
    {
     "name": "stdout",
     "output_type": "stream",
     "text": [
      "Epoch 13: Train Loss=0.1820, Acc=92.84% | Val Loss=0.6594, Acc=69.08% | LR=0.001000\n"
     ]
    },
    {
     "name": "stderr",
     "output_type": "stream",
     "text": [
      "                                                                                                                       "
     ]
    },
    {
     "name": "stdout",
     "output_type": "stream",
     "text": [
      "Epoch 14: Train Loss=0.1853, Acc=92.41% | Val Loss=0.3855, Acc=84.10% | LR=0.001000\n"
     ]
    },
    {
     "name": "stderr",
     "output_type": "stream",
     "text": [
      "                                                                                                                       "
     ]
    },
    {
     "name": "stdout",
     "output_type": "stream",
     "text": [
      "Epoch 15: Train Loss=0.1460, Acc=94.72% | Val Loss=0.4294, Acc=83.53% | LR=0.001000\n"
     ]
    },
    {
     "name": "stderr",
     "output_type": "stream",
     "text": [
      "                                                                                                                       "
     ]
    },
    {
     "name": "stdout",
     "output_type": "stream",
     "text": [
      "Epoch 16: Train Loss=0.1131, Acc=95.59% | Val Loss=1.1930, Acc=63.58% | LR=0.001000\n"
     ]
    },
    {
     "name": "stderr",
     "output_type": "stream",
     "text": [
      "                                                                                                                       "
     ]
    },
    {
     "name": "stdout",
     "output_type": "stream",
     "text": [
      "Epoch 17: Train Loss=0.1265, Acc=95.73% | Val Loss=0.4535, Acc=86.99% | LR=0.001000\n"
     ]
    },
    {
     "name": "stderr",
     "output_type": "stream",
     "text": [
      "                                                                                                                       "
     ]
    },
    {
     "name": "stdout",
     "output_type": "stream",
     "text": [
      "Epoch 18: Train Loss=0.0993, Acc=95.95% | Val Loss=0.6289, Acc=86.13% | LR=0.001000\n"
     ]
    },
    {
     "name": "stderr",
     "output_type": "stream",
     "text": [
      "                                                                                                                       "
     ]
    },
    {
     "name": "stdout",
     "output_type": "stream",
     "text": [
      "Epoch 19: Train Loss=0.0904, Acc=96.46% | Val Loss=0.5540, Acc=78.03% | LR=0.001000\n"
     ]
    },
    {
     "name": "stderr",
     "output_type": "stream",
     "text": [
      "                                                                                                                       "
     ]
    },
    {
     "name": "stdout",
     "output_type": "stream",
     "text": [
      "Epoch 20: Train Loss=0.1079, Acc=95.66% | Val Loss=0.4775, Acc=82.95% | LR=0.001000\n"
     ]
    },
    {
     "name": "stderr",
     "output_type": "stream",
     "text": [
      "                                                                                                                       "
     ]
    },
    {
     "name": "stdout",
     "output_type": "stream",
     "text": [
      "Epoch 21: Train Loss=0.0905, Acc=96.53% | Val Loss=0.5587, Acc=82.37% | LR=0.000100\n"
     ]
    },
    {
     "name": "stderr",
     "output_type": "stream",
     "text": [
      "                                                                                                                       "
     ]
    },
    {
     "name": "stdout",
     "output_type": "stream",
     "text": [
      "Epoch 22: Train Loss=0.0471, Acc=98.92% | Val Loss=0.4969, Acc=86.71% | LR=0.000100\n"
     ]
    },
    {
     "name": "stderr",
     "output_type": "stream",
     "text": [
      "                                                                                                                       "
     ]
    },
    {
     "name": "stdout",
     "output_type": "stream",
     "text": [
      "Epoch 23: Train Loss=0.0379, Acc=98.84% | Val Loss=0.4732, Acc=86.13% | LR=0.000100\n"
     ]
    },
    {
     "name": "stderr",
     "output_type": "stream",
     "text": [
      "                                                                                                                       "
     ]
    },
    {
     "name": "stdout",
     "output_type": "stream",
     "text": [
      "Epoch 24: Train Loss=0.0317, Acc=99.28% | Val Loss=0.4917, Acc=85.26% | LR=0.000100\n"
     ]
    },
    {
     "name": "stderr",
     "output_type": "stream",
     "text": [
      "                                                                                                                       "
     ]
    },
    {
     "name": "stdout",
     "output_type": "stream",
     "text": [
      "Epoch 25: Train Loss=0.0335, Acc=98.99% | Val Loss=0.5093, Acc=86.99% | LR=0.000100\n"
     ]
    },
    {
     "name": "stderr",
     "output_type": "stream",
     "text": [
      "                                                                                                                       "
     ]
    },
    {
     "name": "stdout",
     "output_type": "stream",
     "text": [
      "Epoch 26: Train Loss=0.0275, Acc=99.35% | Val Loss=0.5156, Acc=86.99% | LR=0.000100\n"
     ]
    },
    {
     "name": "stderr",
     "output_type": "stream",
     "text": [
      "                                                                                                                       "
     ]
    },
    {
     "name": "stdout",
     "output_type": "stream",
     "text": [
      "Epoch 27: Train Loss=0.0278, Acc=99.06% | Val Loss=0.4924, Acc=85.84% | LR=0.000100\n"
     ]
    },
    {
     "name": "stderr",
     "output_type": "stream",
     "text": [
      "                                                                                                                       "
     ]
    },
    {
     "name": "stdout",
     "output_type": "stream",
     "text": [
      "Epoch 28: Train Loss=0.0297, Acc=98.99% | Val Loss=0.5101, Acc=85.84% | LR=0.000100\n"
     ]
    },
    {
     "name": "stderr",
     "output_type": "stream",
     "text": [
      "                                                                                                                       "
     ]
    },
    {
     "name": "stdout",
     "output_type": "stream",
     "text": [
      "Epoch 29: Train Loss=0.0307, Acc=98.84% | Val Loss=0.5154, Acc=86.42% | LR=0.000100\n"
     ]
    },
    {
     "name": "stderr",
     "output_type": "stream",
     "text": [
      "                                                                                                                       "
     ]
    },
    {
     "name": "stdout",
     "output_type": "stream",
     "text": [
      "Epoch 30: Train Loss=0.0233, Acc=99.28% | Val Loss=0.5329, Acc=86.13% | LR=0.000100\n",
      "Early stopping at epoch 30\n",
      "\n",
      "=== Fold 4/5 ===\n"
     ]
    },
    {
     "name": "stderr",
     "output_type": "stream",
     "text": [
      "                                                                                                                       "
     ]
    },
    {
     "name": "stdout",
     "output_type": "stream",
     "text": [
      "Epoch 01: Train Loss=0.3473, Acc=87.35% | Val Loss=0.3867, Acc=85.26% | LR=0.001000\n",
      "  → New best model saved\n"
     ]
    },
    {
     "name": "stderr",
     "output_type": "stream",
     "text": [
      "                                                                                                                       "
     ]
    },
    {
     "name": "stdout",
     "output_type": "stream",
     "text": [
      "Epoch 02: Train Loss=0.3009, Acc=88.58% | Val Loss=0.4022, Acc=85.26% | LR=0.001000\n"
     ]
    },
    {
     "name": "stderr",
     "output_type": "stream",
     "text": [
      "                                                                                                                       "
     ]
    },
    {
     "name": "stdout",
     "output_type": "stream",
     "text": [
      "Epoch 03: Train Loss=0.2982, Acc=87.92% | Val Loss=0.4069, Acc=84.39% | LR=0.001000\n"
     ]
    },
    {
     "name": "stderr",
     "output_type": "stream",
     "text": [
      "                                                                                                                       "
     ]
    },
    {
     "name": "stdout",
     "output_type": "stream",
     "text": [
      "Epoch 04: Train Loss=0.2876, Acc=89.15% | Val Loss=0.3736, Acc=84.97% | LR=0.001000\n",
      "  → New best model saved\n"
     ]
    },
    {
     "name": "stderr",
     "output_type": "stream",
     "text": [
      "                                                                                                                       "
     ]
    },
    {
     "name": "stdout",
     "output_type": "stream",
     "text": [
      "Epoch 05: Train Loss=0.2790, Acc=88.65% | Val Loss=0.3800, Acc=85.55% | LR=0.001000\n"
     ]
    },
    {
     "name": "stderr",
     "output_type": "stream",
     "text": [
      "                                                                                                                       "
     ]
    },
    {
     "name": "stdout",
     "output_type": "stream",
     "text": [
      "Epoch 06: Train Loss=0.2699, Acc=89.44% | Val Loss=0.3968, Acc=85.55% | LR=0.001000\n"
     ]
    },
    {
     "name": "stderr",
     "output_type": "stream",
     "text": [
      "                                                                                                                       "
     ]
    },
    {
     "name": "stdout",
     "output_type": "stream",
     "text": [
      "Epoch 07: Train Loss=0.2532, Acc=90.09% | Val Loss=0.3778, Acc=84.97% | LR=0.001000\n"
     ]
    },
    {
     "name": "stderr",
     "output_type": "stream",
     "text": [
      "                                                                                                                       "
     ]
    },
    {
     "name": "stdout",
     "output_type": "stream",
     "text": [
      "Epoch 08: Train Loss=0.2415, Acc=90.31% | Val Loss=0.4479, Acc=84.97% | LR=0.001000\n"
     ]
    },
    {
     "name": "stderr",
     "output_type": "stream",
     "text": [
      "                                                                                                                       "
     ]
    },
    {
     "name": "stdout",
     "output_type": "stream",
     "text": [
      "Epoch 09: Train Loss=0.2342, Acc=90.38% | Val Loss=0.3719, Acc=84.97% | LR=0.001000\n",
      "  → New best model saved\n"
     ]
    },
    {
     "name": "stderr",
     "output_type": "stream",
     "text": [
      "                                                                                                                       "
     ]
    },
    {
     "name": "stdout",
     "output_type": "stream",
     "text": [
      "Epoch 10: Train Loss=0.1991, Acc=90.89% | Val Loss=0.4427, Acc=80.06% | LR=0.001000\n"
     ]
    },
    {
     "name": "stderr",
     "output_type": "stream",
     "text": [
      "                                                                                                                       "
     ]
    },
    {
     "name": "stdout",
     "output_type": "stream",
     "text": [
      "Epoch 11: Train Loss=0.1748, Acc=92.91% | Val Loss=0.5582, Acc=84.97% | LR=0.001000\n"
     ]
    },
    {
     "name": "stderr",
     "output_type": "stream",
     "text": [
      "                                                                                                                       "
     ]
    },
    {
     "name": "stdout",
     "output_type": "stream",
     "text": [
      "Epoch 12: Train Loss=0.1590, Acc=92.99% | Val Loss=0.4950, Acc=85.84% | LR=0.001000\n"
     ]
    },
    {
     "name": "stderr",
     "output_type": "stream",
     "text": [
      "                                                                                                                       "
     ]
    },
    {
     "name": "stdout",
     "output_type": "stream",
     "text": [
      "Epoch 13: Train Loss=0.1310, Acc=95.66% | Val Loss=0.5777, Acc=83.53% | LR=0.001000\n"
     ]
    },
    {
     "name": "stderr",
     "output_type": "stream",
     "text": [
      "                                                                                                                       "
     ]
    },
    {
     "name": "stdout",
     "output_type": "stream",
     "text": [
      "Epoch 14: Train Loss=0.1028, Acc=95.66% | Val Loss=0.5788, Acc=84.97% | LR=0.001000\n"
     ]
    },
    {
     "name": "stderr",
     "output_type": "stream",
     "text": [
      "                                                                                                                       "
     ]
    },
    {
     "name": "stdout",
     "output_type": "stream",
     "text": [
      "Epoch 15: Train Loss=0.0921, Acc=96.24% | Val Loss=0.7883, Acc=84.68% | LR=0.001000\n"
     ]
    },
    {
     "name": "stderr",
     "output_type": "stream",
     "text": [
      "                                                                                                                       "
     ]
    },
    {
     "name": "stdout",
     "output_type": "stream",
     "text": [
      "Epoch 16: Train Loss=0.0932, Acc=96.89% | Val Loss=0.7434, Acc=76.59% | LR=0.001000\n"
     ]
    },
    {
     "name": "stderr",
     "output_type": "stream",
     "text": [
      "                                                                                                                       "
     ]
    },
    {
     "name": "stdout",
     "output_type": "stream",
     "text": [
      "Epoch 17: Train Loss=0.0793, Acc=97.54% | Val Loss=0.7586, Acc=82.08% | LR=0.001000\n"
     ]
    },
    {
     "name": "stderr",
     "output_type": "stream",
     "text": [
      "                                                                                                                       "
     ]
    },
    {
     "name": "stdout",
     "output_type": "stream",
     "text": [
      "Epoch 18: Train Loss=0.0641, Acc=97.76% | Val Loss=0.6357, Acc=82.37% | LR=0.001000\n"
     ]
    },
    {
     "name": "stderr",
     "output_type": "stream",
     "text": [
      "                                                                                                                       "
     ]
    },
    {
     "name": "stdout",
     "output_type": "stream",
     "text": [
      "Epoch 19: Train Loss=0.1014, Acc=96.17% | Val Loss=0.6793, Acc=83.53% | LR=0.001000\n"
     ]
    },
    {
     "name": "stderr",
     "output_type": "stream",
     "text": [
      "                                                                                                                       "
     ]
    },
    {
     "name": "stdout",
     "output_type": "stream",
     "text": [
      "Epoch 20: Train Loss=0.0724, Acc=96.96% | Val Loss=0.6012, Acc=80.06% | LR=0.000100\n"
     ]
    },
    {
     "name": "stderr",
     "output_type": "stream",
     "text": [
      "                                                                                                                       "
     ]
    },
    {
     "name": "stdout",
     "output_type": "stream",
     "text": [
      "Epoch 21: Train Loss=0.0403, Acc=98.84% | Val Loss=0.6214, Acc=83.24% | LR=0.000100\n"
     ]
    },
    {
     "name": "stderr",
     "output_type": "stream",
     "text": [
      "                                                                                                                       "
     ]
    },
    {
     "name": "stdout",
     "output_type": "stream",
     "text": [
      "Epoch 22: Train Loss=0.0278, Acc=99.06% | Val Loss=0.6429, Acc=83.82% | LR=0.000100\n"
     ]
    },
    {
     "name": "stderr",
     "output_type": "stream",
     "text": [
      "                                                                                                                       "
     ]
    },
    {
     "name": "stdout",
     "output_type": "stream",
     "text": [
      "Epoch 23: Train Loss=0.0303, Acc=98.92% | Val Loss=0.6758, Acc=84.39% | LR=0.000100\n"
     ]
    },
    {
     "name": "stderr",
     "output_type": "stream",
     "text": [
      "                                                                                                                       "
     ]
    },
    {
     "name": "stdout",
     "output_type": "stream",
     "text": [
      "Epoch 24: Train Loss=0.0252, Acc=99.13% | Val Loss=0.6661, Acc=83.53% | LR=0.000100\n"
     ]
    },
    {
     "name": "stderr",
     "output_type": "stream",
     "text": [
      "                                                                                                                       "
     ]
    },
    {
     "name": "stdout",
     "output_type": "stream",
     "text": [
      "Epoch 25: Train Loss=0.0272, Acc=99.06% | Val Loss=0.6768, Acc=83.82% | LR=0.000100\n"
     ]
    },
    {
     "name": "stderr",
     "output_type": "stream",
     "text": [
      "                                                                                                                       "
     ]
    },
    {
     "name": "stdout",
     "output_type": "stream",
     "text": [
      "Epoch 26: Train Loss=0.0267, Acc=99.06% | Val Loss=0.6638, Acc=84.68% | LR=0.000100\n"
     ]
    },
    {
     "name": "stderr",
     "output_type": "stream",
     "text": [
      "                                                                                                                       "
     ]
    },
    {
     "name": "stdout",
     "output_type": "stream",
     "text": [
      "Epoch 27: Train Loss=0.0253, Acc=98.99% | Val Loss=0.6974, Acc=84.68% | LR=0.000100\n"
     ]
    },
    {
     "name": "stderr",
     "output_type": "stream",
     "text": [
      "                                                                                                                       "
     ]
    },
    {
     "name": "stdout",
     "output_type": "stream",
     "text": [
      "Epoch 28: Train Loss=0.0239, Acc=99.20% | Val Loss=0.6844, Acc=84.10% | LR=0.000100\n"
     ]
    },
    {
     "name": "stderr",
     "output_type": "stream",
     "text": [
      "                                                                                                                       "
     ]
    },
    {
     "name": "stdout",
     "output_type": "stream",
     "text": [
      "Epoch 29: Train Loss=0.0248, Acc=98.99% | Val Loss=0.7035, Acc=84.10% | LR=0.000100\n",
      "Early stopping at epoch 29\n",
      "\n",
      "=== Fold 5/5 ===\n"
     ]
    },
    {
     "name": "stderr",
     "output_type": "stream",
     "text": [
      "                                                                                                                       "
     ]
    },
    {
     "name": "stdout",
     "output_type": "stream",
     "text": [
      "Epoch 01: Train Loss=0.3597, Acc=86.71% | Val Loss=0.3058, Acc=88.41% | LR=0.001000\n",
      "  → New best model saved\n"
     ]
    },
    {
     "name": "stderr",
     "output_type": "stream",
     "text": [
      "                                                                                                                       "
     ]
    },
    {
     "name": "stdout",
     "output_type": "stream",
     "text": [
      "Epoch 02: Train Loss=0.3430, Acc=86.71% | Val Loss=0.2771, Acc=89.86% | LR=0.001000\n",
      "  → New best model saved\n"
     ]
    },
    {
     "name": "stderr",
     "output_type": "stream",
     "text": [
      "                                                                                                                       "
     ]
    },
    {
     "name": "stdout",
     "output_type": "stream",
     "text": [
      "Epoch 03: Train Loss=0.3368, Acc=87.14% | Val Loss=0.2803, Acc=89.28% | LR=0.001000\n"
     ]
    },
    {
     "name": "stderr",
     "output_type": "stream",
     "text": [
      "                                                                                                                       "
     ]
    },
    {
     "name": "stdout",
     "output_type": "stream",
     "text": [
      "Epoch 04: Train Loss=0.3252, Acc=87.50% | Val Loss=0.2782, Acc=90.43% | LR=0.001000\n"
     ]
    },
    {
     "name": "stderr",
     "output_type": "stream",
     "text": [
      "                                                                                                                       "
     ]
    },
    {
     "name": "stdout",
     "output_type": "stream",
     "text": [
      "Epoch 05: Train Loss=0.3135, Acc=87.50% | Val Loss=0.2743, Acc=90.14% | LR=0.001000\n",
      "  → New best model saved\n"
     ]
    },
    {
     "name": "stderr",
     "output_type": "stream",
     "text": [
      "                                                                                                                       "
     ]
    },
    {
     "name": "stdout",
     "output_type": "stream",
     "text": [
      "Epoch 06: Train Loss=0.3064, Acc=88.37% | Val Loss=0.3080, Acc=88.12% | LR=0.001000\n"
     ]
    },
    {
     "name": "stderr",
     "output_type": "stream",
     "text": [
      "                                                                                                                       "
     ]
    },
    {
     "name": "stdout",
     "output_type": "stream",
     "text": [
      "Epoch 07: Train Loss=0.2975, Acc=87.50% | Val Loss=0.2954, Acc=89.57% | LR=0.001000\n"
     ]
    },
    {
     "name": "stderr",
     "output_type": "stream",
     "text": [
      "                                                                                                                       "
     ]
    },
    {
     "name": "stdout",
     "output_type": "stream",
     "text": [
      "Epoch 08: Train Loss=0.2881, Acc=88.29% | Val Loss=0.2962, Acc=88.12% | LR=0.001000\n"
     ]
    },
    {
     "name": "stderr",
     "output_type": "stream",
     "text": [
      "                                                                                                                       "
     ]
    },
    {
     "name": "stdout",
     "output_type": "stream",
     "text": [
      "Epoch 09: Train Loss=0.2642, Acc=88.73% | Val Loss=0.3211, Acc=89.28% | LR=0.001000\n"
     ]
    },
    {
     "name": "stderr",
     "output_type": "stream",
     "text": [
      "                                                                                                                       "
     ]
    },
    {
     "name": "stdout",
     "output_type": "stream",
     "text": [
      "Epoch 10: Train Loss=0.2450, Acc=90.03% | Val Loss=0.3372, Acc=87.54% | LR=0.001000\n"
     ]
    },
    {
     "name": "stderr",
     "output_type": "stream",
     "text": [
      "                                                                                                                       "
     ]
    },
    {
     "name": "stdout",
     "output_type": "stream",
     "text": [
      "Epoch 11: Train Loss=0.2400, Acc=90.17% | Val Loss=0.3242, Acc=90.14% | LR=0.001000\n"
     ]
    },
    {
     "name": "stderr",
     "output_type": "stream",
     "text": [
      "                                                                                                                       "
     ]
    },
    {
     "name": "stdout",
     "output_type": "stream",
     "text": [
      "Epoch 12: Train Loss=0.1911, Acc=92.56% | Val Loss=0.3589, Acc=90.14% | LR=0.001000\n"
     ]
    },
    {
     "name": "stderr",
     "output_type": "stream",
     "text": [
      "                                                                                                                       "
     ]
    },
    {
     "name": "stdout",
     "output_type": "stream",
     "text": [
      "Epoch 13: Train Loss=0.1832, Acc=92.77% | Val Loss=0.4062, Acc=84.35% | LR=0.001000\n"
     ]
    },
    {
     "name": "stderr",
     "output_type": "stream",
     "text": [
      "                                                                                                                       "
     ]
    },
    {
     "name": "stdout",
     "output_type": "stream",
     "text": [
      "Epoch 14: Train Loss=0.1311, Acc=94.94% | Val Loss=0.5577, Acc=78.55% | LR=0.001000\n"
     ]
    },
    {
     "name": "stderr",
     "output_type": "stream",
     "text": [
      "                                                                                                                       "
     ]
    },
    {
     "name": "stdout",
     "output_type": "stream",
     "text": [
      "Epoch 15: Train Loss=0.1136, Acc=95.45% | Val Loss=0.4873, Acc=87.83% | LR=0.001000\n"
     ]
    },
    {
     "name": "stderr",
     "output_type": "stream",
     "text": [
      "                                                                                                                       "
     ]
    },
    {
     "name": "stdout",
     "output_type": "stream",
     "text": [
      "Epoch 16: Train Loss=0.1267, Acc=94.80% | Val Loss=0.5554, Acc=79.71% | LR=0.000100\n"
     ]
    },
    {
     "name": "stderr",
     "output_type": "stream",
     "text": [
      "                                                                                                                       "
     ]
    },
    {
     "name": "stdout",
     "output_type": "stream",
     "text": [
      "Epoch 17: Train Loss=0.0695, Acc=97.90% | Val Loss=0.4709, Acc=87.83% | LR=0.000100\n"
     ]
    },
    {
     "name": "stderr",
     "output_type": "stream",
     "text": [
      "                                                                                                                       "
     ]
    },
    {
     "name": "stdout",
     "output_type": "stream",
     "text": [
      "Epoch 18: Train Loss=0.0522, Acc=98.77% | Val Loss=0.4863, Acc=86.67% | LR=0.000100\n"
     ]
    },
    {
     "name": "stderr",
     "output_type": "stream",
     "text": [
      "                                                                                                                       "
     ]
    },
    {
     "name": "stdout",
     "output_type": "stream",
     "text": [
      "Epoch 19: Train Loss=0.0524, Acc=98.48% | Val Loss=0.4949, Acc=87.54% | LR=0.000100\n"
     ]
    },
    {
     "name": "stderr",
     "output_type": "stream",
     "text": [
      "                                                                                                                       "
     ]
    },
    {
     "name": "stdout",
     "output_type": "stream",
     "text": [
      "Epoch 20: Train Loss=0.0500, Acc=98.41% | Val Loss=0.4882, Acc=86.09% | LR=0.000100\n"
     ]
    },
    {
     "name": "stderr",
     "output_type": "stream",
     "text": [
      "                                                                                                                       "
     ]
    },
    {
     "name": "stdout",
     "output_type": "stream",
     "text": [
      "Epoch 21: Train Loss=0.0396, Acc=98.92% | Val Loss=0.5093, Acc=86.38% | LR=0.000100\n"
     ]
    },
    {
     "name": "stderr",
     "output_type": "stream",
     "text": [
      "                                                                                                                       "
     ]
    },
    {
     "name": "stdout",
     "output_type": "stream",
     "text": [
      "Epoch 22: Train Loss=0.0375, Acc=99.21% | Val Loss=0.5204, Acc=87.25% | LR=0.000100\n"
     ]
    },
    {
     "name": "stderr",
     "output_type": "stream",
     "text": [
      "                                                                                                                       "
     ]
    },
    {
     "name": "stdout",
     "output_type": "stream",
     "text": [
      "Epoch 23: Train Loss=0.0411, Acc=98.99% | Val Loss=0.5264, Acc=86.09% | LR=0.000100\n"
     ]
    },
    {
     "name": "stderr",
     "output_type": "stream",
     "text": [
      "                                                                                                                       "
     ]
    },
    {
     "name": "stdout",
     "output_type": "stream",
     "text": [
      "Epoch 24: Train Loss=0.0412, Acc=98.77% | Val Loss=0.5424, Acc=88.12% | LR=0.000100\n"
     ]
    },
    {
     "name": "stderr",
     "output_type": "stream",
     "text": [
      "                                                                                                                       "
     ]
    },
    {
     "name": "stdout",
     "output_type": "stream",
     "text": [
      "Epoch 25: Train Loss=0.0334, Acc=99.13% | Val Loss=0.5149, Acc=88.70% | LR=0.000100\n",
      "Early stopping at epoch 25\n",
      "\n",
      "=== Cross‐Val Summary (last 5 epochs) ===\n",
      "Epoch 20: Val Loss = 0.4964 ± 0.0545\n",
      "Epoch 21: Val Loss = 0.5094 ± 0.0756\n",
      "Epoch 22: Val Loss = 0.5045 ± 0.0796\n",
      "Epoch 23: Val Loss = 0.5142 ± 0.0883\n",
      "Epoch 24: Val Loss = 0.5213 ± 0.0825\n",
      "\n",
      "K-fold cross-validation complete. Metrics written to C:\\Users\\Anwesh\\Desktop\\Anwesh\\Oralpathology Dataset Technical Validation\\Model\\Final Code\\ResNet18_scratch\\ResNet18_scratch_training_metrics_all_folds.json.\n",
      "✅ Saved plot: C:\\Users\\Anwesh\\Desktop\\Anwesh\\Oralpathology Dataset Technical Validation\\Model\\Final Code\\ResNet18_scratch\\ResNet18_scratch_fold1_metrics.png\n",
      "✅ Saved plot: C:\\Users\\Anwesh\\Desktop\\Anwesh\\Oralpathology Dataset Technical Validation\\Model\\Final Code\\ResNet18_scratch\\ResNet18_scratch_fold2_metrics.png\n",
      "✅ Saved plot: C:\\Users\\Anwesh\\Desktop\\Anwesh\\Oralpathology Dataset Technical Validation\\Model\\Final Code\\ResNet18_scratch\\ResNet18_scratch_fold3_metrics.png\n",
      "✅ Saved plot: C:\\Users\\Anwesh\\Desktop\\Anwesh\\Oralpathology Dataset Technical Validation\\Model\\Final Code\\ResNet18_scratch\\ResNet18_scratch_fold4_metrics.png\n",
      "✅ Saved plot: C:\\Users\\Anwesh\\Desktop\\Anwesh\\Oralpathology Dataset Technical Validation\\Model\\Final Code\\ResNet18_scratch\\ResNet18_scratch_fold5_metrics.png\n",
      "Training ResNet18_weighted_scratch\n",
      "\n",
      "=== Fold 1/5 ===\n",
      "Using Weighted Loss\n"
     ]
    },
    {
     "name": "stderr",
     "output_type": "stream",
     "text": [
      "                                                                                                                       "
     ]
    },
    {
     "name": "stdout",
     "output_type": "stream",
     "text": [
      "Epoch 01: Train Loss=0.6091, Acc=69.85% | Val Loss=0.5172, Acc=81.21% | LR=0.001000\n",
      "  → New best model saved\n"
     ]
    },
    {
     "name": "stderr",
     "output_type": "stream",
     "text": [
      "                                                                                                                       "
     ]
    },
    {
     "name": "stdout",
     "output_type": "stream",
     "text": [
      "Epoch 02: Train Loss=0.5589, Acc=71.73% | Val Loss=0.5010, Acc=79.77% | LR=0.001000\n",
      "  → New best model saved\n"
     ]
    },
    {
     "name": "stderr",
     "output_type": "stream",
     "text": [
      "                                                                                                                       "
     ]
    },
    {
     "name": "stdout",
     "output_type": "stream",
     "text": [
      "Epoch 03: Train Loss=0.5329, Acc=73.46% | Val Loss=0.5106, Acc=78.03% | LR=0.001000\n"
     ]
    },
    {
     "name": "stderr",
     "output_type": "stream",
     "text": [
      "                                                                                                                       "
     ]
    },
    {
     "name": "stdout",
     "output_type": "stream",
     "text": [
      "Epoch 04: Train Loss=0.5395, Acc=74.48% | Val Loss=0.5104, Acc=83.82% | LR=0.001000\n"
     ]
    },
    {
     "name": "stderr",
     "output_type": "stream",
     "text": [
      "                                                                                                                       "
     ]
    },
    {
     "name": "stdout",
     "output_type": "stream",
     "text": [
      "Epoch 05: Train Loss=0.5235, Acc=76.43% | Val Loss=0.5148, Acc=67.63% | LR=0.001000\n"
     ]
    },
    {
     "name": "stderr",
     "output_type": "stream",
     "text": [
      "                                                                                                                       "
     ]
    },
    {
     "name": "stdout",
     "output_type": "stream",
     "text": [
      "Epoch 06: Train Loss=0.5068, Acc=77.87% | Val Loss=0.4969, Acc=76.88% | LR=0.001000\n",
      "  → New best model saved\n"
     ]
    },
    {
     "name": "stderr",
     "output_type": "stream",
     "text": [
      "                                                                                                                       "
     ]
    },
    {
     "name": "stdout",
     "output_type": "stream",
     "text": [
      "Epoch 07: Train Loss=0.5014, Acc=76.50% | Val Loss=0.5253, Acc=73.99% | LR=0.001000\n"
     ]
    },
    {
     "name": "stderr",
     "output_type": "stream",
     "text": [
      "                                                                                                                       "
     ]
    },
    {
     "name": "stdout",
     "output_type": "stream",
     "text": [
      "Epoch 08: Train Loss=0.4514, Acc=81.49% | Val Loss=0.6366, Acc=57.80% | LR=0.001000\n"
     ]
    },
    {
     "name": "stderr",
     "output_type": "stream",
     "text": [
      "                                                                                                                       "
     ]
    },
    {
     "name": "stdout",
     "output_type": "stream",
     "text": [
      "Epoch 09: Train Loss=0.4673, Acc=78.02% | Val Loss=0.4838, Acc=80.64% | LR=0.001000\n",
      "  → New best model saved\n"
     ]
    },
    {
     "name": "stderr",
     "output_type": "stream",
     "text": [
      "                                                                                                                       "
     ]
    },
    {
     "name": "stdout",
     "output_type": "stream",
     "text": [
      "Epoch 10: Train Loss=0.4152, Acc=81.49% | Val Loss=0.4938, Acc=75.43% | LR=0.001000\n"
     ]
    },
    {
     "name": "stderr",
     "output_type": "stream",
     "text": [
      "                                                                                                                       "
     ]
    },
    {
     "name": "stdout",
     "output_type": "stream",
     "text": [
      "Epoch 11: Train Loss=0.3935, Acc=82.65% | Val Loss=0.6043, Acc=74.57% | LR=0.001000\n"
     ]
    },
    {
     "name": "stderr",
     "output_type": "stream",
     "text": [
      "                                                                                                                       "
     ]
    },
    {
     "name": "stdout",
     "output_type": "stream",
     "text": [
      "Epoch 12: Train Loss=0.3827, Acc=82.57% | Val Loss=0.7129, Acc=86.99% | LR=0.001000\n"
     ]
    },
    {
     "name": "stderr",
     "output_type": "stream",
     "text": [
      "                                                                                                                       "
     ]
    },
    {
     "name": "stdout",
     "output_type": "stream",
     "text": [
      "Epoch 13: Train Loss=0.3505, Acc=85.25% | Val Loss=0.7750, Acc=82.95% | LR=0.001000\n"
     ]
    },
    {
     "name": "stderr",
     "output_type": "stream",
     "text": [
      "                                                                                                                       "
     ]
    },
    {
     "name": "stdout",
     "output_type": "stream",
     "text": [
      "Epoch 14: Train Loss=0.2930, Acc=86.33% | Val Loss=0.5161, Acc=80.06% | LR=0.001000\n"
     ]
    },
    {
     "name": "stderr",
     "output_type": "stream",
     "text": [
      "                                                                                                                       "
     ]
    },
    {
     "name": "stdout",
     "output_type": "stream",
     "text": [
      "Epoch 15: Train Loss=0.2379, Acc=90.02% | Val Loss=0.5875, Acc=78.32% | LR=0.001000\n"
     ]
    },
    {
     "name": "stderr",
     "output_type": "stream",
     "text": [
      "                                                                                                                       "
     ]
    },
    {
     "name": "stdout",
     "output_type": "stream",
     "text": [
      "Epoch 16: Train Loss=0.2402, Acc=90.82% | Val Loss=0.6330, Acc=84.68% | LR=0.001000\n"
     ]
    },
    {
     "name": "stderr",
     "output_type": "stream",
     "text": [
      "                                                                                                                       "
     ]
    },
    {
     "name": "stdout",
     "output_type": "stream",
     "text": [
      "Epoch 17: Train Loss=0.2025, Acc=92.48% | Val Loss=0.7032, Acc=83.53% | LR=0.001000\n"
     ]
    },
    {
     "name": "stderr",
     "output_type": "stream",
     "text": [
      "                                                                                                                       "
     ]
    },
    {
     "name": "stdout",
     "output_type": "stream",
     "text": [
      "Epoch 18: Train Loss=0.1748, Acc=93.20% | Val Loss=0.7046, Acc=81.21% | LR=0.001000\n"
     ]
    },
    {
     "name": "stderr",
     "output_type": "stream",
     "text": [
      "                                                                                                                       "
     ]
    },
    {
     "name": "stdout",
     "output_type": "stream",
     "text": [
      "Epoch 19: Train Loss=0.1275, Acc=95.52% | Val Loss=0.9424, Acc=80.35% | LR=0.001000\n"
     ]
    },
    {
     "name": "stderr",
     "output_type": "stream",
     "text": [
      "                                                                                                                       "
     ]
    },
    {
     "name": "stdout",
     "output_type": "stream",
     "text": [
      "Epoch 20: Train Loss=0.1557, Acc=93.93% | Val Loss=1.4313, Acc=83.24% | LR=0.000100\n"
     ]
    },
    {
     "name": "stderr",
     "output_type": "stream",
     "text": [
      "                                                                                                                       "
     ]
    },
    {
     "name": "stdout",
     "output_type": "stream",
     "text": [
      "Epoch 21: Train Loss=0.0870, Acc=96.38% | Val Loss=0.8803, Acc=83.53% | LR=0.000100\n"
     ]
    },
    {
     "name": "stderr",
     "output_type": "stream",
     "text": [
      "                                                                                                                       "
     ]
    },
    {
     "name": "stdout",
     "output_type": "stream",
     "text": [
      "Epoch 22: Train Loss=0.0679, Acc=97.90% | Val Loss=0.9155, Acc=85.55% | LR=0.000100\n"
     ]
    },
    {
     "name": "stderr",
     "output_type": "stream",
     "text": [
      "                                                                                                                       "
     ]
    },
    {
     "name": "stdout",
     "output_type": "stream",
     "text": [
      "Epoch 23: Train Loss=0.0650, Acc=97.98% | Val Loss=0.8714, Acc=83.82% | LR=0.000100\n"
     ]
    },
    {
     "name": "stderr",
     "output_type": "stream",
     "text": [
      "                                                                                                                       "
     ]
    },
    {
     "name": "stdout",
     "output_type": "stream",
     "text": [
      "Epoch 24: Train Loss=0.0581, Acc=98.34% | Val Loss=1.0170, Acc=84.68% | LR=0.000100\n"
     ]
    },
    {
     "name": "stderr",
     "output_type": "stream",
     "text": [
      "                                                                                                                       "
     ]
    },
    {
     "name": "stdout",
     "output_type": "stream",
     "text": [
      "Epoch 25: Train Loss=0.0610, Acc=97.90% | Val Loss=0.9386, Acc=84.68% | LR=0.000100\n"
     ]
    },
    {
     "name": "stderr",
     "output_type": "stream",
     "text": [
      "                                                                                                                       "
     ]
    },
    {
     "name": "stdout",
     "output_type": "stream",
     "text": [
      "Epoch 26: Train Loss=0.0565, Acc=98.70% | Val Loss=0.9847, Acc=85.26% | LR=0.000100\n"
     ]
    },
    {
     "name": "stderr",
     "output_type": "stream",
     "text": [
      "                                                                                                                       "
     ]
    },
    {
     "name": "stdout",
     "output_type": "stream",
     "text": [
      "Epoch 27: Train Loss=0.0442, Acc=98.99% | Val Loss=0.9719, Acc=84.10% | LR=0.000100\n"
     ]
    },
    {
     "name": "stderr",
     "output_type": "stream",
     "text": [
      "                                                                                                                       "
     ]
    },
    {
     "name": "stdout",
     "output_type": "stream",
     "text": [
      "Epoch 28: Train Loss=0.0587, Acc=98.41% | Val Loss=1.1099, Acc=84.97% | LR=0.000100\n"
     ]
    },
    {
     "name": "stderr",
     "output_type": "stream",
     "text": [
      "                                                                                                                       "
     ]
    },
    {
     "name": "stdout",
     "output_type": "stream",
     "text": [
      "Epoch 29: Train Loss=0.0466, Acc=99.06% | Val Loss=0.9602, Acc=84.39% | LR=0.000100\n",
      "Early stopping at epoch 29\n",
      "\n",
      "=== Fold 2/5 ===\n",
      "Using Weighted Loss\n"
     ]
    },
    {
     "name": "stderr",
     "output_type": "stream",
     "text": [
      "                                                                                                                       "
     ]
    },
    {
     "name": "stdout",
     "output_type": "stream",
     "text": [
      "Epoch 01: Train Loss=0.6087, Acc=68.55% | Val Loss=0.5839, Acc=80.64% | LR=0.001000\n",
      "  → New best model saved\n"
     ]
    },
    {
     "name": "stderr",
     "output_type": "stream",
     "text": [
      "                                                                                                                       "
     ]
    },
    {
     "name": "stdout",
     "output_type": "stream",
     "text": [
      "Epoch 02: Train Loss=0.5391, Acc=73.75% | Val Loss=0.5341, Acc=78.32% | LR=0.001000\n",
      "  → New best model saved\n"
     ]
    },
    {
     "name": "stderr",
     "output_type": "stream",
     "text": [
      "                                                                                                                       "
     ]
    },
    {
     "name": "stdout",
     "output_type": "stream",
     "text": [
      "Epoch 03: Train Loss=0.5401, Acc=75.78% | Val Loss=0.5345, Acc=85.55% | LR=0.001000\n"
     ]
    },
    {
     "name": "stderr",
     "output_type": "stream",
     "text": [
      "                                                                                                                       "
     ]
    },
    {
     "name": "stdout",
     "output_type": "stream",
     "text": [
      "Epoch 04: Train Loss=0.5132, Acc=75.42% | Val Loss=0.5109, Acc=80.06% | LR=0.001000\n",
      "  → New best model saved\n"
     ]
    },
    {
     "name": "stderr",
     "output_type": "stream",
     "text": [
      "                                                                                                                       "
     ]
    },
    {
     "name": "stdout",
     "output_type": "stream",
     "text": [
      "Epoch 05: Train Loss=0.4954, Acc=77.01% | Val Loss=0.5248, Acc=86.42% | LR=0.001000\n"
     ]
    },
    {
     "name": "stderr",
     "output_type": "stream",
     "text": [
      "                                                                                                                       "
     ]
    },
    {
     "name": "stdout",
     "output_type": "stream",
     "text": [
      "Epoch 06: Train Loss=0.4919, Acc=78.45% | Val Loss=0.4738, Acc=74.28% | LR=0.001000\n",
      "  → New best model saved\n"
     ]
    },
    {
     "name": "stderr",
     "output_type": "stream",
     "text": [
      "                                                                                                                       "
     ]
    },
    {
     "name": "stdout",
     "output_type": "stream",
     "text": [
      "Epoch 07: Train Loss=0.4446, Acc=79.46% | Val Loss=0.5163, Acc=82.95% | LR=0.001000\n"
     ]
    },
    {
     "name": "stderr",
     "output_type": "stream",
     "text": [
      "                                                                                                                       "
     ]
    },
    {
     "name": "stdout",
     "output_type": "stream",
     "text": [
      "Epoch 08: Train Loss=0.3863, Acc=82.14% | Val Loss=0.4965, Acc=78.32% | LR=0.001000\n"
     ]
    },
    {
     "name": "stderr",
     "output_type": "stream",
     "text": [
      "                                                                                                                       "
     ]
    },
    {
     "name": "stdout",
     "output_type": "stream",
     "text": [
      "Epoch 09: Train Loss=0.3846, Acc=83.37% | Val Loss=0.5931, Acc=77.17% | LR=0.001000\n"
     ]
    },
    {
     "name": "stderr",
     "output_type": "stream",
     "text": [
      "                                                                                                                       "
     ]
    },
    {
     "name": "stdout",
     "output_type": "stream",
     "text": [
      "Epoch 10: Train Loss=0.3375, Acc=84.09% | Val Loss=0.5270, Acc=83.24% | LR=0.001000\n"
     ]
    },
    {
     "name": "stderr",
     "output_type": "stream",
     "text": [
      "                                                                                                                       "
     ]
    },
    {
     "name": "stdout",
     "output_type": "stream",
     "text": [
      "Epoch 11: Train Loss=0.3106, Acc=86.98% | Val Loss=0.6054, Acc=70.81% | LR=0.001000\n"
     ]
    },
    {
     "name": "stderr",
     "output_type": "stream",
     "text": [
      "                                                                                                                       "
     ]
    },
    {
     "name": "stdout",
     "output_type": "stream",
     "text": [
      "Epoch 12: Train Loss=0.2773, Acc=89.66% | Val Loss=0.6576, Acc=79.19% | LR=0.001000\n"
     ]
    },
    {
     "name": "stderr",
     "output_type": "stream",
     "text": [
      "                                                                                                                       "
     ]
    },
    {
     "name": "stdout",
     "output_type": "stream",
     "text": [
      "Epoch 13: Train Loss=0.1963, Acc=90.60% | Val Loss=0.8532, Acc=84.39% | LR=0.001000\n"
     ]
    },
    {
     "name": "stderr",
     "output_type": "stream",
     "text": [
      "                                                                                                                       "
     ]
    },
    {
     "name": "stdout",
     "output_type": "stream",
     "text": [
      "Epoch 14: Train Loss=0.2210, Acc=91.18% | Val Loss=0.7063, Acc=77.46% | LR=0.001000\n"
     ]
    },
    {
     "name": "stderr",
     "output_type": "stream",
     "text": [
      "                                                                                                                       "
     ]
    },
    {
     "name": "stdout",
     "output_type": "stream",
     "text": [
      "Epoch 15: Train Loss=0.1500, Acc=93.64% | Val Loss=0.7754, Acc=73.99% | LR=0.001000\n"
     ]
    },
    {
     "name": "stderr",
     "output_type": "stream",
     "text": [
      "                                                                                                                       "
     ]
    },
    {
     "name": "stdout",
     "output_type": "stream",
     "text": [
      "Epoch 16: Train Loss=0.0996, Acc=96.82% | Val Loss=1.8346, Acc=89.02% | LR=0.001000\n"
     ]
    },
    {
     "name": "stderr",
     "output_type": "stream",
     "text": [
      "                                                                                                                       "
     ]
    },
    {
     "name": "stdout",
     "output_type": "stream",
     "text": [
      "Epoch 17: Train Loss=0.1432, Acc=95.08% | Val Loss=1.0889, Acc=61.56% | LR=0.000100\n"
     ]
    },
    {
     "name": "stderr",
     "output_type": "stream",
     "text": [
      "                                                                                                                       "
     ]
    },
    {
     "name": "stdout",
     "output_type": "stream",
     "text": [
      "Epoch 18: Train Loss=0.1046, Acc=95.59% | Val Loss=0.9835, Acc=84.68% | LR=0.000100\n"
     ]
    },
    {
     "name": "stderr",
     "output_type": "stream",
     "text": [
      "                                                                                                                       "
     ]
    },
    {
     "name": "stdout",
     "output_type": "stream",
     "text": [
      "Epoch 19: Train Loss=0.0628, Acc=97.47% | Val Loss=0.9373, Acc=84.39% | LR=0.000100\n"
     ]
    },
    {
     "name": "stderr",
     "output_type": "stream",
     "text": [
      "                                                                                                                       "
     ]
    },
    {
     "name": "stdout",
     "output_type": "stream",
     "text": [
      "Epoch 20: Train Loss=0.0661, Acc=97.98% | Val Loss=1.0473, Acc=84.39% | LR=0.000100\n"
     ]
    },
    {
     "name": "stderr",
     "output_type": "stream",
     "text": [
      "                                                                                                                       "
     ]
    },
    {
     "name": "stdout",
     "output_type": "stream",
     "text": [
      "Epoch 21: Train Loss=0.0485, Acc=98.70% | Val Loss=1.1662, Acc=86.42% | LR=0.000100\n"
     ]
    },
    {
     "name": "stderr",
     "output_type": "stream",
     "text": [
      "                                                                                                                       "
     ]
    },
    {
     "name": "stdout",
     "output_type": "stream",
     "text": [
      "Epoch 22: Train Loss=0.0424, Acc=98.84% | Val Loss=1.0884, Acc=84.10% | LR=0.000100\n"
     ]
    },
    {
     "name": "stderr",
     "output_type": "stream",
     "text": [
      "                                                                                                                       "
     ]
    },
    {
     "name": "stdout",
     "output_type": "stream",
     "text": [
      "Epoch 23: Train Loss=0.0424, Acc=98.99% | Val Loss=1.0663, Acc=83.82% | LR=0.000100\n"
     ]
    },
    {
     "name": "stderr",
     "output_type": "stream",
     "text": [
      "                                                                                                                       "
     ]
    },
    {
     "name": "stdout",
     "output_type": "stream",
     "text": [
      "Epoch 24: Train Loss=0.0466, Acc=99.06% | Val Loss=1.1906, Acc=85.84% | LR=0.000100\n"
     ]
    },
    {
     "name": "stderr",
     "output_type": "stream",
     "text": [
      "                                                                                                                       "
     ]
    },
    {
     "name": "stdout",
     "output_type": "stream",
     "text": [
      "Epoch 25: Train Loss=0.0430, Acc=98.92% | Val Loss=1.1973, Acc=84.39% | LR=0.000100\n"
     ]
    },
    {
     "name": "stderr",
     "output_type": "stream",
     "text": [
      "                                                                                                                       "
     ]
    },
    {
     "name": "stdout",
     "output_type": "stream",
     "text": [
      "Epoch 26: Train Loss=0.0364, Acc=99.20% | Val Loss=1.2164, Acc=85.55% | LR=0.000100\n",
      "Early stopping at epoch 26\n",
      "\n",
      "=== Fold 3/5 ===\n",
      "Using Weighted Loss\n"
     ]
    },
    {
     "name": "stderr",
     "output_type": "stream",
     "text": [
      "                                                                                                                       "
     ]
    },
    {
     "name": "stdout",
     "output_type": "stream",
     "text": [
      "Epoch 01: Train Loss=0.6200, Acc=70.93% | Val Loss=0.5967, Acc=73.12% | LR=0.001000\n",
      "  → New best model saved\n"
     ]
    },
    {
     "name": "stderr",
     "output_type": "stream",
     "text": [
      "                                                                                                                       "
     ]
    },
    {
     "name": "stdout",
     "output_type": "stream",
     "text": [
      "Epoch 02: Train Loss=0.5396, Acc=74.33% | Val Loss=0.6098, Acc=76.88% | LR=0.001000\n"
     ]
    },
    {
     "name": "stderr",
     "output_type": "stream",
     "text": [
      "                                                                                                                       "
     ]
    },
    {
     "name": "stdout",
     "output_type": "stream",
     "text": [
      "Epoch 03: Train Loss=0.5208, Acc=77.15% | Val Loss=0.6080, Acc=71.97% | LR=0.001000\n"
     ]
    },
    {
     "name": "stderr",
     "output_type": "stream",
     "text": [
      "                                                                                                                       "
     ]
    },
    {
     "name": "stdout",
     "output_type": "stream",
     "text": [
      "Epoch 04: Train Loss=0.5185, Acc=75.85% | Val Loss=0.6312, Acc=67.63% | LR=0.001000\n"
     ]
    },
    {
     "name": "stderr",
     "output_type": "stream",
     "text": [
      "                                                                                                                       "
     ]
    },
    {
     "name": "stdout",
     "output_type": "stream",
     "text": [
      "Epoch 05: Train Loss=0.4899, Acc=77.58% | Val Loss=0.6210, Acc=80.64% | LR=0.001000\n"
     ]
    },
    {
     "name": "stderr",
     "output_type": "stream",
     "text": [
      "                                                                                                                       "
     ]
    },
    {
     "name": "stdout",
     "output_type": "stream",
     "text": [
      "Epoch 06: Train Loss=0.4546, Acc=80.91% | Val Loss=0.6438, Acc=67.63% | LR=0.001000\n"
     ]
    },
    {
     "name": "stderr",
     "output_type": "stream",
     "text": [
      "                                                                                                                       "
     ]
    },
    {
     "name": "stdout",
     "output_type": "stream",
     "text": [
      "Epoch 07: Train Loss=0.4651, Acc=77.22% | Val Loss=0.5766, Acc=76.88% | LR=0.001000\n",
      "  → New best model saved\n"
     ]
    },
    {
     "name": "stderr",
     "output_type": "stream",
     "text": [
      "                                                                                                                       "
     ]
    },
    {
     "name": "stdout",
     "output_type": "stream",
     "text": [
      "Epoch 08: Train Loss=0.4174, Acc=81.92% | Val Loss=0.6866, Acc=69.94% | LR=0.001000\n"
     ]
    },
    {
     "name": "stderr",
     "output_type": "stream",
     "text": [
      "                                                                                                                       "
     ]
    },
    {
     "name": "stdout",
     "output_type": "stream",
     "text": [
      "Epoch 09: Train Loss=0.3880, Acc=83.51% | Val Loss=0.6846, Acc=59.25% | LR=0.001000\n"
     ]
    },
    {
     "name": "stderr",
     "output_type": "stream",
     "text": [
      "                                                                                                                       "
     ]
    },
    {
     "name": "stdout",
     "output_type": "stream",
     "text": [
      "Epoch 10: Train Loss=0.3273, Acc=85.47% | Val Loss=0.7823, Acc=82.66% | LR=0.001000\n"
     ]
    },
    {
     "name": "stderr",
     "output_type": "stream",
     "text": [
      "                                                                                                                       "
     ]
    },
    {
     "name": "stdout",
     "output_type": "stream",
     "text": [
      "Epoch 11: Train Loss=0.3098, Acc=87.20% | Val Loss=1.1352, Acc=49.71% | LR=0.001000\n"
     ]
    },
    {
     "name": "stderr",
     "output_type": "stream",
     "text": [
      "                                                                                                                       "
     ]
    },
    {
     "name": "stdout",
     "output_type": "stream",
     "text": [
      "Epoch 12: Train Loss=0.3009, Acc=87.06% | Val Loss=0.8199, Acc=82.95% | LR=0.001000\n"
     ]
    },
    {
     "name": "stderr",
     "output_type": "stream",
     "text": [
      "                                                                                                                       "
     ]
    },
    {
     "name": "stdout",
     "output_type": "stream",
     "text": [
      "Epoch 13: Train Loss=0.2226, Acc=90.46% | Val Loss=0.9198, Acc=82.08% | LR=0.001000\n"
     ]
    },
    {
     "name": "stderr",
     "output_type": "stream",
     "text": [
      "                                                                                                                       "
     ]
    },
    {
     "name": "stdout",
     "output_type": "stream",
     "text": [
      "Epoch 14: Train Loss=0.2100, Acc=90.96% | Val Loss=1.0059, Acc=56.07% | LR=0.001000\n"
     ]
    },
    {
     "name": "stderr",
     "output_type": "stream",
     "text": [
      "                                                                                                                       "
     ]
    },
    {
     "name": "stdout",
     "output_type": "stream",
     "text": [
      "Epoch 15: Train Loss=0.1664, Acc=94.22% | Val Loss=1.0122, Acc=68.79% | LR=0.001000\n"
     ]
    },
    {
     "name": "stderr",
     "output_type": "stream",
     "text": [
      "                                                                                                                       "
     ]
    },
    {
     "name": "stdout",
     "output_type": "stream",
     "text": [
      "Epoch 16: Train Loss=0.1817, Acc=92.84% | Val Loss=0.9157, Acc=69.36% | LR=0.001000\n"
     ]
    },
    {
     "name": "stderr",
     "output_type": "stream",
     "text": [
      "                                                                                                                       "
     ]
    },
    {
     "name": "stdout",
     "output_type": "stream",
     "text": [
      "Epoch 17: Train Loss=0.1453, Acc=94.22% | Val Loss=0.9639, Acc=78.03% | LR=0.001000\n"
     ]
    },
    {
     "name": "stderr",
     "output_type": "stream",
     "text": [
      "                                                                                                                       "
     ]
    },
    {
     "name": "stdout",
     "output_type": "stream",
     "text": [
      "Epoch 18: Train Loss=0.1121, Acc=96.02% | Val Loss=1.2980, Acc=83.53% | LR=0.000100\n"
     ]
    },
    {
     "name": "stderr",
     "output_type": "stream",
     "text": [
      "                                                                                                                       "
     ]
    },
    {
     "name": "stdout",
     "output_type": "stream",
     "text": [
      "Epoch 19: Train Loss=0.0645, Acc=97.61% | Val Loss=1.2552, Acc=84.10% | LR=0.000100\n"
     ]
    },
    {
     "name": "stderr",
     "output_type": "stream",
     "text": [
      "                                                                                                                       "
     ]
    },
    {
     "name": "stdout",
     "output_type": "stream",
     "text": [
      "Epoch 20: Train Loss=0.0496, Acc=98.77% | Val Loss=1.4525, Acc=84.68% | LR=0.000100\n"
     ]
    },
    {
     "name": "stderr",
     "output_type": "stream",
     "text": [
      "                                                                                                                       "
     ]
    },
    {
     "name": "stdout",
     "output_type": "stream",
     "text": [
      "Epoch 21: Train Loss=0.0510, Acc=98.77% | Val Loss=1.2080, Acc=79.77% | LR=0.000100\n"
     ]
    },
    {
     "name": "stderr",
     "output_type": "stream",
     "text": [
      "                                                                                                                       "
     ]
    },
    {
     "name": "stdout",
     "output_type": "stream",
     "text": [
      "Epoch 22: Train Loss=0.0513, Acc=98.63% | Val Loss=1.2906, Acc=82.95% | LR=0.000100\n"
     ]
    },
    {
     "name": "stderr",
     "output_type": "stream",
     "text": [
      "                                                                                                                       "
     ]
    },
    {
     "name": "stdout",
     "output_type": "stream",
     "text": [
      "Epoch 23: Train Loss=0.0419, Acc=98.92% | Val Loss=1.3993, Acc=83.82% | LR=0.000100\n"
     ]
    },
    {
     "name": "stderr",
     "output_type": "stream",
     "text": [
      "                                                                                                                       "
     ]
    },
    {
     "name": "stdout",
     "output_type": "stream",
     "text": [
      "Epoch 24: Train Loss=0.0476, Acc=98.99% | Val Loss=1.4267, Acc=84.10% | LR=0.000100\n"
     ]
    },
    {
     "name": "stderr",
     "output_type": "stream",
     "text": [
      "                                                                                                                       "
     ]
    },
    {
     "name": "stdout",
     "output_type": "stream",
     "text": [
      "Epoch 25: Train Loss=0.0375, Acc=99.06% | Val Loss=1.5133, Acc=84.39% | LR=0.000100\n"
     ]
    },
    {
     "name": "stderr",
     "output_type": "stream",
     "text": [
      "                                                                                                                       "
     ]
    },
    {
     "name": "stdout",
     "output_type": "stream",
     "text": [
      "Epoch 26: Train Loss=0.0414, Acc=99.13% | Val Loss=1.5215, Acc=84.68% | LR=0.000100\n"
     ]
    },
    {
     "name": "stderr",
     "output_type": "stream",
     "text": [
      "                                                                                                                       "
     ]
    },
    {
     "name": "stdout",
     "output_type": "stream",
     "text": [
      "Epoch 27: Train Loss=0.0430, Acc=99.20% | Val Loss=1.5648, Acc=84.97% | LR=0.000100\n",
      "Early stopping at epoch 27\n",
      "\n",
      "=== Fold 4/5 ===\n",
      "Using Weighted Loss\n"
     ]
    },
    {
     "name": "stderr",
     "output_type": "stream",
     "text": [
      "                                                                                                                       "
     ]
    },
    {
     "name": "stdout",
     "output_type": "stream",
     "text": [
      "Epoch 01: Train Loss=0.5703, Acc=74.98% | Val Loss=0.6850, Acc=82.08% | LR=0.001000\n",
      "  → New best model saved\n"
     ]
    },
    {
     "name": "stderr",
     "output_type": "stream",
     "text": [
      "                                                                                                                       "
     ]
    },
    {
     "name": "stdout",
     "output_type": "stream",
     "text": [
      "Epoch 02: Train Loss=0.5445, Acc=74.33% | Val Loss=0.5953, Acc=78.32% | LR=0.001000\n",
      "  → New best model saved\n"
     ]
    },
    {
     "name": "stderr",
     "output_type": "stream",
     "text": [
      "                                                                                                                       "
     ]
    },
    {
     "name": "stdout",
     "output_type": "stream",
     "text": [
      "Epoch 03: Train Loss=0.5016, Acc=77.01% | Val Loss=0.6066, Acc=80.92% | LR=0.001000\n"
     ]
    },
    {
     "name": "stderr",
     "output_type": "stream",
     "text": [
      "                                                                                                                       "
     ]
    },
    {
     "name": "stdout",
     "output_type": "stream",
     "text": [
      "Epoch 04: Train Loss=0.4902, Acc=78.16% | Val Loss=0.5747, Acc=75.72% | LR=0.001000\n",
      "  → New best model saved\n"
     ]
    },
    {
     "name": "stderr",
     "output_type": "stream",
     "text": [
      "                                                                                                                       "
     ]
    },
    {
     "name": "stdout",
     "output_type": "stream",
     "text": [
      "Epoch 05: Train Loss=0.4671, Acc=77.80% | Val Loss=0.6333, Acc=80.92% | LR=0.001000\n"
     ]
    },
    {
     "name": "stderr",
     "output_type": "stream",
     "text": [
      "                                                                                                                       "
     ]
    },
    {
     "name": "stdout",
     "output_type": "stream",
     "text": [
      "Epoch 06: Train Loss=0.4448, Acc=80.40% | Val Loss=0.5884, Acc=78.03% | LR=0.001000\n"
     ]
    },
    {
     "name": "stderr",
     "output_type": "stream",
     "text": [
      "                                                                                                                       "
     ]
    },
    {
     "name": "stdout",
     "output_type": "stream",
     "text": [
      "Epoch 07: Train Loss=0.4284, Acc=79.68% | Val Loss=0.6371, Acc=77.17% | LR=0.001000\n"
     ]
    },
    {
     "name": "stderr",
     "output_type": "stream",
     "text": [
      "                                                                                                                       "
     ]
    },
    {
     "name": "stdout",
     "output_type": "stream",
     "text": [
      "Epoch 08: Train Loss=0.3646, Acc=83.30% | Val Loss=0.8967, Acc=80.06% | LR=0.001000\n"
     ]
    },
    {
     "name": "stderr",
     "output_type": "stream",
     "text": [
      "                                                                                                                       "
     ]
    },
    {
     "name": "stdout",
     "output_type": "stream",
     "text": [
      "Epoch 09: Train Loss=0.3384, Acc=84.89% | Val Loss=1.4423, Acc=84.10% | LR=0.001000\n"
     ]
    },
    {
     "name": "stderr",
     "output_type": "stream",
     "text": [
      "                                                                                                                       "
     ]
    },
    {
     "name": "stdout",
     "output_type": "stream",
     "text": [
      "Epoch 10: Train Loss=0.3582, Acc=84.96% | Val Loss=0.6806, Acc=76.30% | LR=0.001000\n"
     ]
    },
    {
     "name": "stderr",
     "output_type": "stream",
     "text": [
      "                                                                                                                       "
     ]
    },
    {
     "name": "stdout",
     "output_type": "stream",
     "text": [
      "Epoch 11: Train Loss=0.2737, Acc=86.98% | Val Loss=1.4166, Acc=84.97% | LR=0.001000\n"
     ]
    },
    {
     "name": "stderr",
     "output_type": "stream",
     "text": [
      "                                                                                                                       "
     ]
    },
    {
     "name": "stdout",
     "output_type": "stream",
     "text": [
      "Epoch 12: Train Loss=0.2259, Acc=91.47% | Val Loss=1.0863, Acc=81.79% | LR=0.001000\n"
     ]
    },
    {
     "name": "stderr",
     "output_type": "stream",
     "text": [
      "                                                                                                                       "
     ]
    },
    {
     "name": "stdout",
     "output_type": "stream",
     "text": [
      "Epoch 13: Train Loss=0.2248, Acc=91.25% | Val Loss=0.9879, Acc=80.92% | LR=0.001000\n"
     ]
    },
    {
     "name": "stderr",
     "output_type": "stream",
     "text": [
      "                                                                                                                       "
     ]
    },
    {
     "name": "stdout",
     "output_type": "stream",
     "text": [
      "Epoch 14: Train Loss=0.1721, Acc=94.29% | Val Loss=0.8717, Acc=71.97% | LR=0.001000\n"
     ]
    },
    {
     "name": "stderr",
     "output_type": "stream",
     "text": [
      "                                                                                                                       "
     ]
    },
    {
     "name": "stdout",
     "output_type": "stream",
     "text": [
      "Epoch 15: Train Loss=0.1585, Acc=94.58% | Val Loss=1.2058, Acc=81.50% | LR=0.000100\n"
     ]
    },
    {
     "name": "stderr",
     "output_type": "stream",
     "text": [
      "                                                                                                                       "
     ]
    },
    {
     "name": "stdout",
     "output_type": "stream",
     "text": [
      "Epoch 16: Train Loss=0.1495, Acc=93.64% | Val Loss=1.0889, Acc=82.08% | LR=0.000100\n"
     ]
    },
    {
     "name": "stderr",
     "output_type": "stream",
     "text": [
      "                                                                                                                       "
     ]
    },
    {
     "name": "stdout",
     "output_type": "stream",
     "text": [
      "Epoch 17: Train Loss=0.0946, Acc=97.25% | Val Loss=1.0906, Acc=80.92% | LR=0.000100\n"
     ]
    },
    {
     "name": "stderr",
     "output_type": "stream",
     "text": [
      "                                                                                                                       "
     ]
    },
    {
     "name": "stdout",
     "output_type": "stream",
     "text": [
      "Epoch 18: Train Loss=0.0853, Acc=97.04% | Val Loss=1.1860, Acc=82.37% | LR=0.000100\n"
     ]
    },
    {
     "name": "stderr",
     "output_type": "stream",
     "text": [
      "                                                                                                                       "
     ]
    },
    {
     "name": "stdout",
     "output_type": "stream",
     "text": [
      "Epoch 19: Train Loss=0.0698, Acc=97.83% | Val Loss=1.2327, Acc=82.08% | LR=0.000100\n"
     ]
    },
    {
     "name": "stderr",
     "output_type": "stream",
     "text": [
      "                                                                                                                       "
     ]
    },
    {
     "name": "stdout",
     "output_type": "stream",
     "text": [
      "Epoch 20: Train Loss=0.0640, Acc=97.76% | Val Loss=1.2002, Acc=82.08% | LR=0.000100\n"
     ]
    },
    {
     "name": "stderr",
     "output_type": "stream",
     "text": [
      "                                                                                                                       "
     ]
    },
    {
     "name": "stdout",
     "output_type": "stream",
     "text": [
      "Epoch 21: Train Loss=0.0671, Acc=97.90% | Val Loss=1.4106, Acc=83.82% | LR=0.000100\n"
     ]
    },
    {
     "name": "stderr",
     "output_type": "stream",
     "text": [
      "                                                                                                                       "
     ]
    },
    {
     "name": "stdout",
     "output_type": "stream",
     "text": [
      "Epoch 22: Train Loss=0.0603, Acc=98.05% | Val Loss=1.2142, Acc=81.79% | LR=0.000100\n"
     ]
    },
    {
     "name": "stderr",
     "output_type": "stream",
     "text": [
      "                                                                                                                       "
     ]
    },
    {
     "name": "stdout",
     "output_type": "stream",
     "text": [
      "Epoch 23: Train Loss=0.0591, Acc=98.55% | Val Loss=1.3598, Acc=82.66% | LR=0.000100\n"
     ]
    },
    {
     "name": "stderr",
     "output_type": "stream",
     "text": [
      "                                                                                                                       "
     ]
    },
    {
     "name": "stdout",
     "output_type": "stream",
     "text": [
      "Epoch 24: Train Loss=0.0552, Acc=98.55% | Val Loss=1.3310, Acc=82.95% | LR=0.000100\n",
      "Early stopping at epoch 24\n",
      "\n",
      "=== Fold 5/5 ===\n",
      "Using Weighted Loss\n"
     ]
    },
    {
     "name": "stderr",
     "output_type": "stream",
     "text": [
      "                                                                                                                       "
     ]
    },
    {
     "name": "stdout",
     "output_type": "stream",
     "text": [
      "Epoch 01: Train Loss=0.5998, Acc=71.68% | Val Loss=0.5267, Acc=76.52% | LR=0.001000\n",
      "  → New best model saved\n"
     ]
    },
    {
     "name": "stderr",
     "output_type": "stream",
     "text": [
      "                                                                                                                       "
     ]
    },
    {
     "name": "stdout",
     "output_type": "stream",
     "text": [
      "Epoch 02: Train Loss=0.5486, Acc=75.72% | Val Loss=0.4920, Acc=72.17% | LR=0.001000\n",
      "  → New best model saved\n"
     ]
    },
    {
     "name": "stderr",
     "output_type": "stream",
     "text": [
      "                                                                                                                       "
     ]
    },
    {
     "name": "stdout",
     "output_type": "stream",
     "text": [
      "Epoch 03: Train Loss=0.5231, Acc=73.27% | Val Loss=0.5184, Acc=71.88% | LR=0.001000\n"
     ]
    },
    {
     "name": "stderr",
     "output_type": "stream",
     "text": [
      "                                                                                                                       "
     ]
    },
    {
     "name": "stdout",
     "output_type": "stream",
     "text": [
      "Epoch 04: Train Loss=0.5058, Acc=77.10% | Val Loss=0.5167, Acc=83.19% | LR=0.001000\n"
     ]
    },
    {
     "name": "stderr",
     "output_type": "stream",
     "text": [
      "                                                                                                                       "
     ]
    },
    {
     "name": "stdout",
     "output_type": "stream",
     "text": [
      "Epoch 05: Train Loss=0.4974, Acc=77.67% | Val Loss=0.5021, Acc=77.10% | LR=0.001000\n"
     ]
    },
    {
     "name": "stderr",
     "output_type": "stream",
     "text": [
      "                                                                                                                       "
     ]
    },
    {
     "name": "stdout",
     "output_type": "stream",
     "text": [
      "Epoch 06: Train Loss=0.4444, Acc=80.13% | Val Loss=0.6952, Acc=85.51% | LR=0.001000\n"
     ]
    },
    {
     "name": "stderr",
     "output_type": "stream",
     "text": [
      "                                                                                                                       "
     ]
    },
    {
     "name": "stdout",
     "output_type": "stream",
     "text": [
      "Epoch 07: Train Loss=0.4087, Acc=80.64% | Val Loss=0.6508, Acc=87.83% | LR=0.001000\n"
     ]
    },
    {
     "name": "stderr",
     "output_type": "stream",
     "text": [
      "                                                                                                                       "
     ]
    },
    {
     "name": "stdout",
     "output_type": "stream",
     "text": [
      "Epoch 08: Train Loss=0.3692, Acc=83.02% | Val Loss=0.6445, Acc=85.51% | LR=0.001000\n"
     ]
    },
    {
     "name": "stderr",
     "output_type": "stream",
     "text": [
      "                                                                                                                       "
     ]
    },
    {
     "name": "stdout",
     "output_type": "stream",
     "text": [
      "Epoch 09: Train Loss=0.3346, Acc=85.12% | Val Loss=0.5423, Acc=80.00% | LR=0.001000\n"
     ]
    },
    {
     "name": "stderr",
     "output_type": "stream",
     "text": [
      "                                                                                                                       "
     ]
    },
    {
     "name": "stdout",
     "output_type": "stream",
     "text": [
      "Epoch 10: Train Loss=0.3075, Acc=86.27% | Val Loss=1.1514, Acc=88.41% | LR=0.001000\n"
     ]
    },
    {
     "name": "stderr",
     "output_type": "stream",
     "text": [
      "                                                                                                                       "
     ]
    },
    {
     "name": "stdout",
     "output_type": "stream",
     "text": [
      "Epoch 11: Train Loss=0.3268, Acc=86.63% | Val Loss=0.6334, Acc=85.80% | LR=0.001000\n"
     ]
    },
    {
     "name": "stderr",
     "output_type": "stream",
     "text": [
      "                                                                                                                       "
     ]
    },
    {
     "name": "stdout",
     "output_type": "stream",
     "text": [
      "Epoch 12: Train Loss=0.2366, Acc=90.46% | Val Loss=0.6700, Acc=75.07% | LR=0.001000\n"
     ]
    },
    {
     "name": "stderr",
     "output_type": "stream",
     "text": [
      "                                                                                                                       "
     ]
    },
    {
     "name": "stdout",
     "output_type": "stream",
     "text": [
      "Epoch 13: Train Loss=0.1806, Acc=91.84% | Val Loss=1.6672, Acc=88.12% | LR=0.000100\n"
     ]
    },
    {
     "name": "stderr",
     "output_type": "stream",
     "text": [
      "                                                                                                                       "
     ]
    },
    {
     "name": "stdout",
     "output_type": "stream",
     "text": [
      "Epoch 14: Train Loss=0.1365, Acc=96.03% | Val Loss=0.8861, Acc=86.96% | LR=0.000100\n"
     ]
    },
    {
     "name": "stderr",
     "output_type": "stream",
     "text": [
      "                                                                                                                       "
     ]
    },
    {
     "name": "stdout",
     "output_type": "stream",
     "text": [
      "Epoch 15: Train Loss=0.0905, Acc=96.89% | Val Loss=0.8467, Acc=86.96% | LR=0.000100\n"
     ]
    },
    {
     "name": "stderr",
     "output_type": "stream",
     "text": [
      "                                                                                                                       "
     ]
    },
    {
     "name": "stdout",
     "output_type": "stream",
     "text": [
      "Epoch 16: Train Loss=0.0892, Acc=96.89% | Val Loss=1.0523, Acc=87.83% | LR=0.000100\n"
     ]
    },
    {
     "name": "stderr",
     "output_type": "stream",
     "text": [
      "                                                                                                                       "
     ]
    },
    {
     "name": "stdout",
     "output_type": "stream",
     "text": [
      "Epoch 17: Train Loss=0.0843, Acc=97.04% | Val Loss=0.9107, Acc=86.96% | LR=0.000100\n"
     ]
    },
    {
     "name": "stderr",
     "output_type": "stream",
     "text": [
      "                                                                                                                       "
     ]
    },
    {
     "name": "stdout",
     "output_type": "stream",
     "text": [
      "Epoch 18: Train Loss=0.0693, Acc=97.83% | Val Loss=1.0319, Acc=86.96% | LR=0.000100\n"
     ]
    },
    {
     "name": "stderr",
     "output_type": "stream",
     "text": [
      "                                                                                                                       "
     ]
    },
    {
     "name": "stdout",
     "output_type": "stream",
     "text": [
      "Epoch 19: Train Loss=0.0714, Acc=98.05% | Val Loss=0.9546, Acc=87.54% | LR=0.000100\n"
     ]
    },
    {
     "name": "stderr",
     "output_type": "stream",
     "text": [
      "                                                                                                                       "
     ]
    },
    {
     "name": "stdout",
     "output_type": "stream",
     "text": [
      "Epoch 20: Train Loss=0.0601, Acc=98.12% | Val Loss=0.9329, Acc=86.67% | LR=0.000100\n"
     ]
    },
    {
     "name": "stderr",
     "output_type": "stream",
     "text": [
      "                                                                                                                       "
     ]
    },
    {
     "name": "stdout",
     "output_type": "stream",
     "text": [
      "Epoch 21: Train Loss=0.0687, Acc=97.83% | Val Loss=1.0534, Acc=86.96% | LR=0.000100\n"
     ]
    },
    {
     "name": "stderr",
     "output_type": "stream",
     "text": [
      "                                                                                                                       "
     ]
    },
    {
     "name": "stdout",
     "output_type": "stream",
     "text": [
      "Epoch 22: Train Loss=0.0604, Acc=98.41% | Val Loss=1.0713, Acc=86.09% | LR=0.000100\n",
      "Early stopping at epoch 22\n",
      "\n",
      "=== Cross‐Val Summary (last 5 epochs) ===\n",
      "Epoch 18: Val Loss = 1.0408 ± 0.2018\n",
      "Epoch 19: Val Loss = 1.0644 ± 0.1468\n",
      "Epoch 20: Val Loss = 1.2128 ± 0.2055\n",
      "Epoch 21: Val Loss = 1.1437 ± 0.1751\n",
      "Epoch 22: Val Loss = 1.1160 ± 0.1289\n",
      "\n",
      "K-fold cross-validation complete. Metrics written to C:\\Users\\Anwesh\\Desktop\\Anwesh\\Oralpathology Dataset Technical Validation\\Model\\Final Code\\ResNet18_weighted_scratch\\ResNet18_weighted_scratch_training_metrics_all_folds.json.\n",
      "✅ Saved plot: C:\\Users\\Anwesh\\Desktop\\Anwesh\\Oralpathology Dataset Technical Validation\\Model\\Final Code\\ResNet18_weighted_scratch\\ResNet18_weighted_scratch_fold1_metrics.png\n",
      "✅ Saved plot: C:\\Users\\Anwesh\\Desktop\\Anwesh\\Oralpathology Dataset Technical Validation\\Model\\Final Code\\ResNet18_weighted_scratch\\ResNet18_weighted_scratch_fold2_metrics.png\n",
      "✅ Saved plot: C:\\Users\\Anwesh\\Desktop\\Anwesh\\Oralpathology Dataset Technical Validation\\Model\\Final Code\\ResNet18_weighted_scratch\\ResNet18_weighted_scratch_fold3_metrics.png\n",
      "✅ Saved plot: C:\\Users\\Anwesh\\Desktop\\Anwesh\\Oralpathology Dataset Technical Validation\\Model\\Final Code\\ResNet18_weighted_scratch\\ResNet18_weighted_scratch_fold4_metrics.png\n",
      "✅ Saved plot: C:\\Users\\Anwesh\\Desktop\\Anwesh\\Oralpathology Dataset Technical Validation\\Model\\Final Code\\ResNet18_weighted_scratch\\ResNet18_weighted_scratch_fold5_metrics.png\n"
     ]
    }
   ],
   "source": [
    "for model_name in model_list:\n",
    "    run_kfold_training(model_name)"
   ]
  },
  {
   "cell_type": "code",
   "execution_count": null,
   "metadata": {},
   "outputs": [],
   "source": []
  }
 ],
 "metadata": {
  "accelerator": "GPU",
  "colab": {
   "authorship_tag": "ABX9TyM5OT7HPsGvtKPAH4bpQK9F",
   "gpuType": "A100",
   "machine_shape": "hm",
   "mount_file_id": "1LLELlEvQbOLqf5l69y1Fu2yOTihqRxb9",
   "provenance": []
  },
  "kernelspec": {
   "display_name": "Python 3 (ipykernel)",
   "language": "python",
   "name": "python3"
  },
  "language_info": {
   "codemirror_mode": {
    "name": "ipython",
    "version": 3
   },
   "file_extension": ".py",
   "mimetype": "text/x-python",
   "name": "python",
   "nbconvert_exporter": "python",
   "pygments_lexer": "ipython3",
   "version": "3.13.5"
  }
 },
 "nbformat": 4,
 "nbformat_minor": 4
}
